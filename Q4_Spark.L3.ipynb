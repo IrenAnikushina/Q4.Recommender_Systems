{
 "cells": [
  {
   "cell_type": "markdown",
   "metadata": {
    "id": "AnG9DXhe49cH"
   },
   "source": [
    "## Теоретическая часть"
   ]
  },
  {
   "cell_type": "markdown",
   "metadata": {
    "id": "RxDIQTAh49cO"
   },
   "source": [
    "1. Вспомним прошлый вебинар, мы рассматривали User-User рекомендации и Item-Item рекомендации. Чем они отличаются и чем они похожи? Если есть функция item_item_rec(interaction_matrix). Можно ли использовать эту функцию для user_user_rec?  \n",
    "В чем принципиальные отличия item-item рекомендаций от ALS?\n"
   ]
  },
  {
   "cell_type": "markdown",
   "metadata": {},
   "source": [
    "User-User - это рекомендация товаров на основании схожести пользователей (напр. я купила товары, которые также купил другой клиент, т.е. предположительно у нас схожи вкусы - можно мне рекомендовать другие товары из его покупок, с большой долей вероятности они мне понравятся тоже)\n",
    "\n",
    "Item-Item - рекомендации на осонове похожести товаров (рекомендации типа \"С этим товаром часто покупают\", т.е формируется множество объектов похожих на товар (с таким же рейтингом или, например, фильмы с такими же актерами) или часто участвующих с ним в связке (Совстречаемости) и рекомендуюся ближайшие \"соседи\")\n",
    "\n",
    "Схожесть в базе для анализа таблица типа user-item из которой для анализа беруться разные данные в зависимости от метода рекомендации. Каждый из методов рекомендаций имеет свои несдостатки: для user-based рекомендаций - это растущее количество пользователей, а также рекомендации для холодных пользователей, которые еще не оставили о себе данныых для сравнения, для item-based это трудоемкость и субъективность оценок пользователей (кто-то всем ставит 2, а кто-то завышает из-за чего сложно говорить о реально схожести товаров по какаим-то характеристикам между собой). \n",
    "\n",
    "Функцию item_item_rec(interaction_matrix) можно использовать для user_user_rec, если транспорнировать матрицу так, чтобы по строкам получись юзеры (User), а по столбцам - товары (Item).\n",
    "\n",
    "В Item-Item мы используем KNN (метод ближайших соседей), исползуем полностью всю матрицу, учитываем только кейсы реального взаимодействия. В ALS мы используем разложение матрицы на матрицу факторов юзеров и матрицу факторов товаров и исследуем взаимодействие матрицы ембедингов юзеров и товаров, даже если пользователь не имел взаимодействия с товаром, то эта характеристика тоже влияет на результат."
   ]
  },
  {
   "cell_type": "markdown",
   "metadata": {
    "id": "XnuQ5DDD49cP"
   },
   "source": [
    "2. Приведите 3 примера весов (те, которых не было на вебинаре: сумма покупок, количество покупок - неинтересно) user-item матрицы для задачи рекомендаций товаров \n"
   ]
  },
  {
   "cell_type": "markdown",
   "metadata": {},
   "source": [
    "1. товары из той же группы, что были купленны ранее (канцелярия, аксессуары, принадлежности для авто)\n",
    "2. рекомендовать какие-то новые товары (новинки по дате заведения в матрицу товаров), похожие с тем, что покупал ранее или из той же группы\n",
    "3. если есть данные о пользователе, то учитывать их (дата рождения, количество детей)\n",
    "\n",
    "Но это кажется, что-то не то... как вес можно учитывать частоту покупок товара пользователем и дату последней покупки (например, если купил один раз два года назад, то врядли купит еще, а если покупает с какой-то регулярностью, то скорее всего купит скоро). Можно ввести критерий оборачиваемости товара - как часто надо покупать следующий аналогичный, на какой период пользования расчитан товар, и предлагать снова, когда предполагаемый период пользования заканчивается. "
   ]
  },
  {
   "cell_type": "markdown",
   "metadata": {
    "id": "UmKifKo649cQ"
   },
   "source": [
    "3. Какие ограничения есть у ALS? (Тип информации, линейность/нелинейность факторов и т д)\n"
   ]
  },
  {
   "cell_type": "markdown",
   "metadata": {},
   "source": [
    "В анализе участвует только пользователь и товар, нет возможности сделать многофакторный анализ и подключить внешние фичи в качестве параметров, в качестве рузультата получаем не вероятность оценку.\n",
    "Для разложения User-Item матрицы на матрицы эмбедингов юзеров и товаров необходимо, чтобы каждый пользователь сделал хотя бы одну покупку или чтобы каждый товар купили хотя бы один раз."
   ]
  },
  {
   "cell_type": "markdown",
   "metadata": {
    "id": "ZFhlzsTb49cR"
   },
   "source": [
    "## Практическая часть\n"
   ]
  },
  {
   "cell_type": "code",
   "execution_count": 1,
   "metadata": {
    "colab": {
     "base_uri": "https://localhost:8080/"
    },
    "executionInfo": {
     "elapsed": 178234,
     "status": "ok",
     "timestamp": 1634549148220,
     "user": {
      "displayName": "Николай -",
      "photoUrl": "https://lh3.googleusercontent.com/a-/AOh14GiCS90olAsBznR3WLZOaJ5ukcv2LPYBRWvHEQUZ-A=s64",
      "userId": "17372739142422056321"
     },
     "user_tz": -180
    },
    "id": "ju-hv9oJtakN",
    "outputId": "d6e7bec4-09fb-441f-9f60-5842db15f3d0"
   },
   "outputs": [
    {
     "name": "stdout",
     "output_type": "stream",
     "text": [
      "Requirement already satisfied: implicit in c:\\users\\sklod\\anaconda3\\lib\\site-packages (0.4.8)\n",
      "Requirement already satisfied: scipy>=0.16 in c:\\users\\sklod\\anaconda3\\lib\\site-packages (from implicit) (1.4.1)\n",
      "Requirement already satisfied: numpy in c:\\users\\sklod\\anaconda3\\lib\\site-packages (from implicit) (1.18.5)\n",
      "Requirement already satisfied: tqdm>=4.27 in c:\\users\\sklod\\anaconda3\\lib\\site-packages (from implicit) (4.47.0)\n"
     ]
    }
   ],
   "source": [
    "!pip install implicit"
   ]
  },
  {
   "cell_type": "code",
   "execution_count": 2,
   "metadata": {
    "id": "qI6TyXCL49cS"
   },
   "outputs": [],
   "source": [
    "import pandas as pd\n",
    "import numpy as np\n",
    "import matplotlib.pyplot as plt\n",
    "%matplotlib inline\n",
    "\n",
    "# Для работы с матрицами\n",
    "from scipy.sparse import csr_matrix\n",
    "\n",
    "# Матричная факторизация\n",
    "from implicit.als import AlternatingLeastSquares\n",
    "from implicit.nearest_neighbours import bm25_weight, tfidf_weight\n",
    "\n",
    "# Функции из 1-ого вебинара\n",
    "import os, sys\n"
   ]
  },
  {
   "cell_type": "code",
   "execution_count": 3,
   "metadata": {
    "colab": {
     "base_uri": "https://localhost:8080/",
     "height": 111
    },
    "executionInfo": {
     "elapsed": 4557,
     "status": "ok",
     "timestamp": 1634549218008,
     "user": {
      "displayName": "Николай -",
      "photoUrl": "https://lh3.googleusercontent.com/a-/AOh14GiCS90olAsBznR3WLZOaJ5ukcv2LPYBRWvHEQUZ-A=s64",
      "userId": "17372739142422056321"
     },
     "user_tz": -180
    },
    "id": "LsYDeTEC49cU",
    "outputId": "d1246437-ea35-456e-b859-cca0b9abc21f"
   },
   "outputs": [
    {
     "data": {
      "text/html": [
       "<div>\n",
       "<style scoped>\n",
       "    .dataframe tbody tr th:only-of-type {\n",
       "        vertical-align: middle;\n",
       "    }\n",
       "\n",
       "    .dataframe tbody tr th {\n",
       "        vertical-align: top;\n",
       "    }\n",
       "\n",
       "    .dataframe thead th {\n",
       "        text-align: right;\n",
       "    }\n",
       "</style>\n",
       "<table border=\"1\" class=\"dataframe\">\n",
       "  <thead>\n",
       "    <tr style=\"text-align: right;\">\n",
       "      <th></th>\n",
       "      <th>user_id</th>\n",
       "      <th>basket_id</th>\n",
       "      <th>day</th>\n",
       "      <th>item_id</th>\n",
       "      <th>quantity</th>\n",
       "      <th>sales_value</th>\n",
       "      <th>store_id</th>\n",
       "      <th>retail_disc</th>\n",
       "      <th>trans_time</th>\n",
       "      <th>week_no</th>\n",
       "      <th>coupon_disc</th>\n",
       "      <th>coupon_match_disc</th>\n",
       "    </tr>\n",
       "  </thead>\n",
       "  <tbody>\n",
       "    <tr>\n",
       "      <th>0</th>\n",
       "      <td>2375</td>\n",
       "      <td>26984851472</td>\n",
       "      <td>1</td>\n",
       "      <td>1004906</td>\n",
       "      <td>1</td>\n",
       "      <td>1.39</td>\n",
       "      <td>364</td>\n",
       "      <td>-0.6</td>\n",
       "      <td>1631</td>\n",
       "      <td>1</td>\n",
       "      <td>0.0</td>\n",
       "      <td>0.0</td>\n",
       "    </tr>\n",
       "    <tr>\n",
       "      <th>1</th>\n",
       "      <td>2375</td>\n",
       "      <td>26984851472</td>\n",
       "      <td>1</td>\n",
       "      <td>1033142</td>\n",
       "      <td>1</td>\n",
       "      <td>0.82</td>\n",
       "      <td>364</td>\n",
       "      <td>0.0</td>\n",
       "      <td>1631</td>\n",
       "      <td>1</td>\n",
       "      <td>0.0</td>\n",
       "      <td>0.0</td>\n",
       "    </tr>\n",
       "  </tbody>\n",
       "</table>\n",
       "</div>"
      ],
      "text/plain": [
       "   user_id    basket_id  day  item_id  quantity  sales_value  store_id  \\\n",
       "0     2375  26984851472    1  1004906         1         1.39       364   \n",
       "1     2375  26984851472    1  1033142         1         0.82       364   \n",
       "\n",
       "   retail_disc  trans_time  week_no  coupon_disc  coupon_match_disc  \n",
       "0         -0.6        1631        1          0.0                0.0  \n",
       "1          0.0        1631        1          0.0                0.0  "
      ]
     },
     "execution_count": 3,
     "metadata": {},
     "output_type": "execute_result"
    }
   ],
   "source": [
    "data = pd.read_csv('C:/Users/sklod/OneDrive/Рабочий стол/STUDY/!Теория/Q4.Рекомендательные системы/retail_train.csv')\n",
    "\n",
    "data.columns = [col.lower() for col in data.columns]\n",
    "data.rename(columns={'household_key': 'user_id',\n",
    "                    'product_id': 'item_id'},\n",
    "           inplace=True)\n",
    "\n",
    "\n",
    "test_size_weeks = 3\n",
    "\n",
    "data_train = data[data['week_no'] < data['week_no'].max() - test_size_weeks]\n",
    "data_test = data[data['week_no'] >= data['week_no'].max() - test_size_weeks]\n",
    "\n",
    "data_train.head(2)"
   ]
  },
  {
   "cell_type": "code",
   "execution_count": 4,
   "metadata": {
    "colab": {
     "base_uri": "https://localhost:8080/"
    },
    "executionInfo": {
     "elapsed": 436,
     "status": "ok",
     "timestamp": 1634549218436,
     "user": {
      "displayName": "Николай -",
      "photoUrl": "https://lh3.googleusercontent.com/a-/AOh14GiCS90olAsBznR3WLZOaJ5ukcv2LPYBRWvHEQUZ-A=s64",
      "userId": "17372739142422056321"
     },
     "user_tz": -180
    },
    "id": "EtukvUpC49cX",
    "outputId": "20ccbc7e-2d61-4c32-b804-9c15d6c1bdc7"
   },
   "outputs": [
    {
     "name": "stderr",
     "output_type": "stream",
     "text": [
      "C:\\Users\\sklod\\anaconda3\\lib\\site-packages\\pandas\\core\\indexing.py:966: SettingWithCopyWarning: \n",
      "A value is trying to be set on a copy of a slice from a DataFrame.\n",
      "Try using .loc[row_indexer,col_indexer] = value instead\n",
      "\n",
      "See the caveats in the documentation: https://pandas.pydata.org/pandas-docs/stable/user_guide/indexing.html#returning-a-view-versus-a-copy\n",
      "  self.obj[item] = s\n"
     ]
    }
   ],
   "source": [
    "popularity = data_train.groupby('item_id')['quantity'].sum().reset_index()\n",
    "popularity.rename(columns={'quantity': 'n_sold'}, inplace=True)\n",
    "\n",
    "top_5000 = popularity.sort_values('n_sold', ascending=False).head(5000).item_id.tolist()\n",
    "\n",
    "# Заведем фиктивный item_id (если юзер покупал товары из топ-5000, то он \"купил\" такой товар)\n",
    "data_train.loc[~data_train['item_id'].isin(top_5000), 'item_id'] = 999999"
   ]
  },
  {
   "cell_type": "code",
   "execution_count": 5,
   "metadata": {},
   "outputs": [
    {
     "data": {
      "text/html": [
       "<div>\n",
       "<style scoped>\n",
       "    .dataframe tbody tr th:only-of-type {\n",
       "        vertical-align: middle;\n",
       "    }\n",
       "\n",
       "    .dataframe tbody tr th {\n",
       "        vertical-align: top;\n",
       "    }\n",
       "\n",
       "    .dataframe thead th {\n",
       "        text-align: right;\n",
       "    }\n",
       "</style>\n",
       "<table border=\"1\" class=\"dataframe\">\n",
       "  <thead>\n",
       "    <tr style=\"text-align: right;\">\n",
       "      <th></th>\n",
       "      <th>user_id</th>\n",
       "      <th>actual</th>\n",
       "    </tr>\n",
       "  </thead>\n",
       "  <tbody>\n",
       "    <tr>\n",
       "      <th>0</th>\n",
       "      <td>1</td>\n",
       "      <td>[821867, 834484, 856942, 865456, 889248, 90795...</td>\n",
       "    </tr>\n",
       "    <tr>\n",
       "      <th>1</th>\n",
       "      <td>3</td>\n",
       "      <td>[835476, 851057, 872021, 878302, 879948, 90963...</td>\n",
       "    </tr>\n",
       "  </tbody>\n",
       "</table>\n",
       "</div>"
      ],
      "text/plain": [
       "   user_id                                             actual\n",
       "0        1  [821867, 834484, 856942, 865456, 889248, 90795...\n",
       "1        3  [835476, 851057, 872021, 878302, 879948, 90963..."
      ]
     },
     "execution_count": 5,
     "metadata": {},
     "output_type": "execute_result"
    }
   ],
   "source": [
    "result = data_test.groupby('user_id')['item_id'].unique().reset_index()\n",
    "result.columns=['user_id', 'actual']\n",
    "result.head(2)"
   ]
  },
  {
   "cell_type": "code",
   "execution_count": 6,
   "metadata": {},
   "outputs": [],
   "source": [
    "def precision(recommended_list, bought_list):\n",
    "    bought_list = np.array(bought_list)\n",
    "    recommended_list = np.array(recommended_list)\n",
    "    flags = np.isin(bought_list, recommended_list)\n",
    "    return flags.sum() / len(recommended_list)\n",
    "    \n",
    "def precision_at_k(recommended_list, \n",
    "                    bought_list, \n",
    "                    k=5):\n",
    "    return precision(recommended_list[:k], bought_list) # K - кол-во билжайших соседей"
   ]
  },
  {
   "cell_type": "code",
   "execution_count": 7,
   "metadata": {},
   "outputs": [],
   "source": [
    "def get_recommendations(user, model, N=5):\n",
    "    res = [id_to_itemid[rec[0]] for rec in \n",
    "                    model.recommend(userid=userid_to_id[user], \n",
    "                                    user_items=sparse_user_item,   # на вход user-item matrix\n",
    "                                    N=N, \n",
    "                                    filter_already_liked_items=False, \n",
    "                                    filter_items=[itemid_to_id[999999]],\n",
    "                                    recalculate_user=True)]\n",
    "    return res"
   ]
  },
  {
   "cell_type": "code",
   "execution_count": 8,
   "metadata": {},
   "outputs": [],
   "source": [
    "def ALS_tester(user_item_matrix, name_of_column):\n",
    "    model = AlternatingLeastSquares(factors=100, \n",
    "                                    regularization=0.001,\n",
    "                                    iterations=15, \n",
    "                                    calculate_training_loss=True, \n",
    "                                    use_gpu=False) \n",
    "\n",
    "    model.fit(csr_matrix(user_item_matrix).T.tocsr(),  # На вход item-user matrix\n",
    "          show_progress=True)\n",
    "\n",
    "    result[name_of_column] = result['user_id'].apply(lambda x: get_recommendations(x, model=model, N=5))"
   ]
  },
  {
   "cell_type": "markdown",
   "metadata": {
    "id": "wk05OovH49cY"
   },
   "source": [
    "### Подбор матрицы $c_{ui}$\n",
    "Попробуйте различные варианты матрицы весов (3+ вариантов). Обучите алгоритм для различных $C$. В качестве результата приведите таблицу: матрица весов - результат на train и validation.\n",
    "Сделате качественные выводы.\n"
   ]
  },
  {
   "cell_type": "code",
   "execution_count": 9,
   "metadata": {},
   "outputs": [],
   "source": [
    "def test_matrix_weight (name_of_column, name_of_func, fill_value=0):\n",
    "    global user_item_matrix\n",
    "    global sparse_user_item\n",
    "    global id_to_itemid\n",
    "    global id_to_userid\n",
    "    global itemid_to_id\n",
    "    global userid_to_id\n",
    "    \n",
    "    user_item_matrix = pd.pivot_table(data_train, \n",
    "                                  index='user_id', columns='item_id', \n",
    "                                  values='quantity', \n",
    "                                  aggfunc=name_of_func, \n",
    "                                  fill_value=fill_value\n",
    "                                 )\n",
    "    \n",
    "\n",
    "    user_item_matrix = user_item_matrix.astype(float) # необходимый тип матрицы для implicit\n",
    "    sparse_user_item = csr_matrix(user_item_matrix).tocsr()# переведем в формат saprse matrix\n",
    "    userids = user_item_matrix.index.values\n",
    "    itemids = user_item_matrix.columns.values\n",
    "    matrix_userids = np.arange(len(userids))\n",
    "    matrix_itemids = np.arange(len(itemids))\n",
    "    id_to_itemid = dict(zip(matrix_itemids, itemids))\n",
    "    id_to_userid = dict(zip(matrix_userids, userids))\n",
    "    itemid_to_id = dict(zip(itemids, matrix_itemids))\n",
    "    userid_to_id = dict(zip(userids, matrix_userids))    \n",
    "    \n",
    "    ALS_tester(user_item_matrix, name_of_column)"
   ]
  },
  {
   "cell_type": "code",
   "execution_count": 10,
   "metadata": {},
   "outputs": [
    {
     "name": "stderr",
     "output_type": "stream",
     "text": [
      "WARNING:root:Intel MKL BLAS detected. Its highly recommend to set the environment variable 'export MKL_NUM_THREADS=1' to disable its internal multithreading\n"
     ]
    },
    {
     "data": {
      "application/vnd.jupyter.widget-view+json": {
       "model_id": "829141aa246d4a1b86548a8753e4077d",
       "version_major": 2,
       "version_minor": 0
      },
      "text/plain": [
       "HBox(children=(FloatProgress(value=0.0, max=15.0), HTML(value='')))"
      ]
     },
     "metadata": {},
     "output_type": "display_data"
    },
    {
     "name": "stdout",
     "output_type": "stream",
     "text": [
      "\n"
     ]
    }
   ],
   "source": [
    "test_matrix_weight('count', 'count' )"
   ]
  },
  {
   "cell_type": "code",
   "execution_count": 11,
   "metadata": {},
   "outputs": [
    {
     "data": {
      "application/vnd.jupyter.widget-view+json": {
       "model_id": "6889094a89514c7fb5c4c64b6e3d673d",
       "version_major": 2,
       "version_minor": 0
      },
      "text/plain": [
       "HBox(children=(FloatProgress(value=0.0, max=15.0), HTML(value='')))"
      ]
     },
     "metadata": {},
     "output_type": "display_data"
    },
    {
     "name": "stdout",
     "output_type": "stream",
     "text": [
      "\n"
     ]
    }
   ],
   "source": [
    "test_matrix_weight('max','max')"
   ]
  },
  {
   "cell_type": "code",
   "execution_count": 12,
   "metadata": {},
   "outputs": [
    {
     "data": {
      "application/vnd.jupyter.widget-view+json": {
       "model_id": "068ca808ff2543edbeba6b71fc50c137",
       "version_major": 2,
       "version_minor": 0
      },
      "text/plain": [
       "HBox(children=(FloatProgress(value=0.0, max=15.0), HTML(value='')))"
      ]
     },
     "metadata": {},
     "output_type": "display_data"
    },
    {
     "name": "stdout",
     "output_type": "stream",
     "text": [
      "\n"
     ]
    }
   ],
   "source": [
    "test_matrix_weight('mean','mean')"
   ]
  },
  {
   "cell_type": "code",
   "execution_count": 13,
   "metadata": {},
   "outputs": [
    {
     "data": {
      "application/vnd.jupyter.widget-view+json": {
       "model_id": "d5fbb73b6d1e424bb1fffb93a82320d0",
       "version_major": 2,
       "version_minor": 0
      },
      "text/plain": [
       "HBox(children=(FloatProgress(value=0.0, max=15.0), HTML(value='')))"
      ]
     },
     "metadata": {},
     "output_type": "display_data"
    },
    {
     "name": "stdout",
     "output_type": "stream",
     "text": [
      "\n"
     ]
    }
   ],
   "source": [
    "test_matrix_weight('nunique','nunique')"
   ]
  },
  {
   "cell_type": "code",
   "execution_count": 14,
   "metadata": {},
   "outputs": [
    {
     "data": {
      "text/html": [
       "<div>\n",
       "<style scoped>\n",
       "    .dataframe tbody tr th:only-of-type {\n",
       "        vertical-align: middle;\n",
       "    }\n",
       "\n",
       "    .dataframe tbody tr th {\n",
       "        vertical-align: top;\n",
       "    }\n",
       "\n",
       "    .dataframe thead th {\n",
       "        text-align: right;\n",
       "    }\n",
       "</style>\n",
       "<table border=\"1\" class=\"dataframe\">\n",
       "  <thead>\n",
       "    <tr style=\"text-align: right;\">\n",
       "      <th></th>\n",
       "      <th>aggfunc</th>\n",
       "      <th>presision_at_k</th>\n",
       "    </tr>\n",
       "  </thead>\n",
       "  <tbody>\n",
       "    <tr>\n",
       "      <th>3</th>\n",
       "      <td>nunique</td>\n",
       "      <td>0.20392</td>\n",
       "    </tr>\n",
       "    <tr>\n",
       "      <th>2</th>\n",
       "      <td>mean</td>\n",
       "      <td>0.19109</td>\n",
       "    </tr>\n",
       "    <tr>\n",
       "      <th>1</th>\n",
       "      <td>max</td>\n",
       "      <td>0.18580</td>\n",
       "    </tr>\n",
       "    <tr>\n",
       "      <th>0</th>\n",
       "      <td>count</td>\n",
       "      <td>0.18080</td>\n",
       "    </tr>\n",
       "  </tbody>\n",
       "</table>\n",
       "</div>"
      ],
      "text/plain": [
       "   aggfunc  presision_at_k\n",
       "3  nunique         0.20392\n",
       "2     mean         0.19109\n",
       "1      max         0.18580\n",
       "0    count         0.18080"
      ]
     },
     "execution_count": 14,
     "metadata": {},
     "output_type": "execute_result"
    }
   ],
   "source": [
    "df = pd.DataFrame(columns=['aggfunc', 'presision_at_k'])\n",
    "i = 0\n",
    "for column in result.columns[2:]:\n",
    "    presision = round(result.apply(lambda row: precision_at_k(row[column], row['actual']), axis=1).mean(), 5)\n",
    "    df.loc[i] = [column, presision]\n",
    "    i += 1\n",
    "\n",
    "df.sort_values(by='presision_at_k', ascending=False)"
   ]
  },
  {
   "cell_type": "markdown",
   "metadata": {},
   "source": [
    "Cамый высокий результат даёт \"nunique\", потому что nunique косвенно пересекается с популярностью товара."
   ]
  },
  {
   "cell_type": "markdown",
   "metadata": {
    "id": "PHer9wto49cZ"
   },
   "source": [
    "### Оптимизация гипперпараметров\n",
    "Для лучшей матрицы весов из первого задания подберите оптимальные $\\lambda$ и n_factors. Подбор можно делать вручную (цикл в цикле, аналог sklearn.GridSearch, или случайно - sklearn.RandomSearch). Или Вы можете воспользоваться библиотеками для автоматического подбора гипперпараметров (любые на Ваш вкус). В качестве результата постройте графики:\n",
    "1. Значение параметра - время обучения \n",
    "2. Значение параметра - качество train, качество validation  \n",
    "\n",
    "Сделайте качественные выводы"
   ]
  },
  {
   "cell_type": "code",
   "execution_count": 15,
   "metadata": {
    "colab": {
     "base_uri": "https://localhost:8080/",
     "height": 180
    },
    "executionInfo": {
     "elapsed": 298,
     "status": "error",
     "timestamp": 1634549219073,
     "user": {
      "displayName": "Николай -",
      "photoUrl": "https://lh3.googleusercontent.com/a-/AOh14GiCS90olAsBznR3WLZOaJ5ukcv2LPYBRWvHEQUZ-A=s64",
      "userId": "17372739142422056321"
     },
     "user_tz": -180
    },
    "id": "tPE1gwHW49ca",
    "outputId": "56427b96-6966-4763-cd0a-92dec024ee33"
   },
   "outputs": [
    {
     "ename": "NameError",
     "evalue": "name 'ALS' is not defined",
     "output_type": "error",
     "traceback": [
      "\u001b[1;31m---------------------------------------------------------------------------\u001b[0m",
      "\u001b[1;31mNameError\u001b[0m                                 Traceback (most recent call last)",
      "\u001b[1;32m<ipython-input-15-c91eb4a8ad69>\u001b[0m in \u001b[0;36m<module>\u001b[1;34m\u001b[0m\n\u001b[0;32m      1\u001b[0m \u001b[1;32mfor\u001b[0m \u001b[0mfactor\u001b[0m \u001b[1;32min\u001b[0m \u001b[1;33m[\u001b[0m\u001b[1;36m50\u001b[0m\u001b[1;33m,\u001b[0m \u001b[1;36m100\u001b[0m\u001b[1;33m,\u001b[0m \u001b[1;36m300\u001b[0m\u001b[1;33m]\u001b[0m\u001b[1;33m:\u001b[0m\u001b[1;33m\u001b[0m\u001b[1;33m\u001b[0m\u001b[0m\n\u001b[1;32m----> 2\u001b[1;33m     \u001b[0mmodel\u001b[0m \u001b[1;33m=\u001b[0m \u001b[0mALS\u001b[0m\u001b[1;33m(\u001b[0m\u001b[0mfactor\u001b[0m\u001b[1;33m,\u001b[0m \u001b[1;33m...\u001b[0m\u001b[1;33m)\u001b[0m\u001b[1;33m\u001b[0m\u001b[1;33m\u001b[0m\u001b[0m\n\u001b[0m",
      "\u001b[1;31mNameError\u001b[0m: name 'ALS' is not defined"
     ]
    }
   ],
   "source": [
    "for factor in [50, 100, 300]:\n",
    "    model = ALS(factor, ...)"
   ]
  },
  {
   "cell_type": "markdown",
   "metadata": {
    "id": "sKevvD1349cb"
   },
   "source": [
    "**P.S.** Не пишите отписки в качестве выводов. Мне интресены Ваши рассуждения, трудности, с которыми Вы сталкнулись и что-то, что Вас удивило. Если выводы контринтуитивны - напишите об этом, в этом нет ничего страшного!"
   ]
  },
  {
   "cell_type": "code",
   "execution_count": null,
   "metadata": {
    "colab": {
     "base_uri": "https://localhost:8080/"
    },
    "executionInfo": {
     "elapsed": 3846,
     "status": "ok",
     "timestamp": 1639505077822,
     "user": {
      "displayName": "Николай -",
      "photoUrl": "https://lh3.googleusercontent.com/a-/AOh14GiCS90olAsBznR3WLZOaJ5ukcv2LPYBRWvHEQUZ-A=s64",
      "userId": "17372739142422056321"
     },
     "user_tz": -180
    },
    "id": "URFgaZAmub4E",
    "outputId": "0527403c-00d7-4e4b-ca96-c65ab08cd1e8"
   },
   "outputs": [],
   "source": [
    "!pip install hyperopt"
   ]
  },
  {
   "cell_type": "markdown",
   "metadata": {
    "id": "yHvbIzA-Hkgx"
   },
   "source": [
    "# Use hyperopt!"
   ]
  },
  {
   "cell_type": "code",
   "execution_count": null,
   "metadata": {
    "id": "RLMSQxRpHffU"
   },
   "outputs": [],
   "source": []
  }
 ],
 "metadata": {
  "colab": {
   "collapsed_sections": [],
   "name": "HW_3_tasks.ipynb",
   "provenance": []
  },
  "kernelspec": {
   "display_name": "Python 3",
   "language": "python",
   "name": "python3"
  },
  "language_info": {
   "codemirror_mode": {
    "name": "ipython",
    "version": 3
   },
   "file_extension": ".py",
   "mimetype": "text/x-python",
   "name": "python",
   "nbconvert_exporter": "python",
   "pygments_lexer": "ipython3",
   "version": "3.8.3"
  }
 },
 "nbformat": 4,
 "nbformat_minor": 1
}
