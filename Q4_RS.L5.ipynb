{
 "cells": [
  {
   "cell_type": "markdown",
   "metadata": {
    "id": "f1XjeTzsz7_x"
   },
   "source": [
    "## Теоретическая часть"
   ]
  },
  {
   "cell_type": "markdown",
   "metadata": {
    "id": "FISrRJh6z7_4"
   },
   "source": [
    "\n",
    "1. Ответьте на вопросы:  \n",
    "В чем принципиальное отличие гибридных рекомендательных систем от коллаборативной филтьтрации?  \n",
    "Приведите 2-3 примера задач, в которых необходимо использовать гибридные системы  \n",
    "\n",
    "\n"
   ]
  },
  {
   "cell_type": "markdown",
   "metadata": {},
   "source": [
    "Колоборативная фильтрация основана на истории оценок пользователей. Учитывается активное взаимодействие с товаром - анализируется то, что понравилось пользователю, рекомендации----> похожие товары, -----> товары, которые понравились другим пользователям с похожими вкусами.\n",
    "\n",
    "Гибридные РС объединяют в себе принципы колаборативной фильтрации в объединении с принципами контентных РС, основанных на знаниях о товаре и о пользователе (item-based, user-based) .т.е. является более комплексным подходом и опирается не только на активное взаимодействие, но и собранные фичи. Гибридные РС были созданы для того чтобы использовать сильные стороны различных алгоритмов и минимизировать ущерб от их недостатков.\n",
    "\n",
    "Гибридные системы позволяют решить проблему «холодного старта», которая является одним из слабых мест методов коллаборативной фильтрации - новые пользователи, новые товары. С помочщью гибридной модели для «холодного пользователя», предпочтения которого нам неизвестны и у которого нет активног овзаимодействия с товарами, мы можем рекомендовать, например, наиболее популярные товары или подготовить «универсальный» набор рекомендаций. Таким оразом, наиболее оптимальным будет применение гибридных РС в условиях необходимости делать рекомендации для \"холодных юзеров\" или использовать для рекомендаций новые товары."
   ]
  },
  {
   "cell_type": "markdown",
   "metadata": {
    "id": "E64QMf0Oz7_6"
   },
   "source": [
    "2.  Прочитайте статью про поиск на hh.ru https://habr.com/ru/company/hh/blog/347276/\n",
    "Нам интересна именно рекомендательная система, раздел \"Производительность системы\" можно пропустить\n",
    "Какие основные отличия предложенной системы от тех подходов, которые мы разбирали на семинарах? Какие проблемы могут возникнуть при выводе такой модели в продакшен?"
   ]
  },
  {
   "cell_type": "markdown",
   "metadata": {},
   "source": [
    "В кратце суть РС:\n",
    "1. Для пустых поисковых запросов пользователей с резюме - использование ранга от рекомендательной системы + ранжирование и ограничение в выдаче по релевантности - сначала демонстрируется топ релевантных для каждой группы вакансий, потом вакансии из всег групп с меньшей релевантностью. Цель, чтоб все группы вакансий попали в выдачу в соответствии со своей релевантностью. \n",
    "На примерах из семинаров не было такой задачи - мы просто рекомендовали топы по релевантности без обязательной привязки к тому, в какой группе они находятся.\n",
    "\n",
    "2. Поиск по непустому запросу - использование многоступенчатой модели, которая отсеивает наименее релевантные на каждом этапе и улучшает показатели для оставшихся на следующем: Линейная модель - грубый фильтр для неподходящих по ключевым словам вакансий ----> XGBoost для качественного ранжирования подходящих по релевантности. Для настройки использовали метрики ndcg и map.\n",
    "\n",
    "Как я поняла HH не использует item-based, user-based подход. Они анализируют соответствие вакансий на основании данных только одного пользвателя (резюме), его запросов и откликов. Кроме имеющихся стандартных признаков они добавили признаки, сравнивающие тексты с учётом текстовых взаимодействий. Добавили time-based-валидации для исключения переобучения моделей. Сделали разметку вакансий для наиболее высокочастотных запросов. Кроме того они создали framework для удобной работы с кодом, признаками и моделями. \n",
    "\n",
    "Вывод модели в продакшн нужно делать по частями и постепенно, чтобы запускать а/б тесты и вовремя понять, если что-то вызывает отрицательный эффект. Как и в любых РС, отрицателный эффект - это потеря денег или трафика. Демонстрация нерелевантных вакансий или отсутствие каких-то групп вакансий в рекомендательной выдаче существенно снижают количество просмотров и конверсию показов в отклики. Большую роль играет визуализация. Ну и конечно при создании РС, которая должна отлично искалть то, что постоянно меняется, невозможно без внесения в нее постоянных изменений - т.е. РС ХХ - это не событие, а процесс, постоянное усовершенствование и поддержка."
   ]
  },
  {
   "cell_type": "markdown",
   "metadata": {
    "id": "tNE5pEkJz7_6"
   },
   "source": [
    "3. На вебинаре мы рассматривали модель LightFM (https://making.lyst.com/lightfm/docs/lightfm.html). В работе Data Scientist'а важную часть занимает research - исследование существующих архитектур и разбор научных статей, в которых они описываются. Вам предлагается изчуть оригинальную статью про LightFM https://arxiv.org/pdf/1507.08439.pdf и ответить на следующие вопросы:  \n",
    "1) Какой датасет используют авторы?  \n",
    "2) Что используют в качестве признаков?  \n",
    "3) С какими моделями сравнивают LightFM? Опишите их основные идеи кратко  "
   ]
  },
  {
   "cell_type": "markdown",
   "metadata": {},
   "source": [
    "Статья написана разработчиками Lyst - это интернет магазин фэшн одежды.\n",
    "Главные проблемы: большое количество атикулов, которое каждый день растет; постоянные изменения в мире моды и выпуск новых коллекций, что тоже нужно учитывать в рекомендациях; большое количество новых \"холодных\" пользователей.\n",
    "\n",
    "Для построения модели они учитывают взаимодействия юзеров с товарами (положительные и отрицательные), фичи товаров и юзеров (метаданные), а также скалярные смещения.\n",
    "\n",
    "LightFM сравнивают со стандартной матричной факторизацией, content-based моделью, которые плохо справляются в случаях рекомендаций холодного старта - для новых пользователей и новых товаров - при отсутствии достаточного количства данных для нализа и сравнения. В то время как обычные колаборативные модели хорошо справляются там, где имеются наполненные данными эмбединги юзеров и товаров, LightFM дает возможность использовать метаданные там, где информации о взаимодействии юзер-товар недостаточно, делая предсказание для рекомендаций в случаях холодного запуска.\n",
    "\n",
    "В статье также описывается ряд связанных гибридных моделей:\n",
    "Soboroff - представляет пользователей как линейные комбинации векторов признаков предметов, с которыми они взаимодействовали, затем с помощью семантической индексации формируют скрытые профили пользователей. \n",
    "Saveski - использует факторизацию user-item и item-feature матриц, используя одну матрицу признаков товаров в обоих разложениях, используя в качестве оптимизации гиперпараметр веса (минимизация взвешенной суммы матриц).\n",
    "Shmueli - представляет товары как линейные комбинаци их признаков, использует метаданные и данные других пользователей, но эта модель более эффективна для холоного запуска и малопроизводительна для работы с \"горячими\" данными.\n",
    "LightFM имеет преимуществе перед всеми этими гибридными моделями, так как учитывает user-item, item-feature и user-feature матрицы.\n",
    "\n",
    "Автор статьи оценивает производительность LightFM на двух наборах данных - плотный набор данных MovieLens и разреженные данные (CrossValidated).\n",
    "\n",
    "MovieLens + Tag Genome- 71567 пользователей,  10681 фильмов с фичами и тэгами (0-1 - точнось описания) ----> рейтинг 1-3 негативное взаимодейстиве, рейтинг 4-5 позитивное, взяли только самые релевантные исходя из тегов ---->  итоговый набор данных содержит 69878 пользователей, 10681 фильмов, 9996948 взаимодействий и 1030 уникальных тегов.\n",
    " \n",
    "CrossValidated вопрос-ответ - 5953 пользователей + их метадата, 44200 вопросов + 1032 уникальных тега, 188865 ответов и комментов -----> ответ на вопрос позитивное воздействие, отсутвие ответа негативное -----> для каждой позитивной пары с помощю randomly sampling найдено 3 негативных пары. Упор на желание пользователя ответить на вопрос, а не на его возможность сделать это. Задача - объединить пользователей и вопросы, на которые они могут дать ответ.\n",
    "\n",
    "Трейн/ тест ----> теплые данные + холодные юзеры и товары.\n",
    "Скор - ROC AUC.\n",
    "Модели:\n",
    "- MF - стандартная матричная факториязация юзер-товар\n",
    "- LSI-LR - content-based модель -----> представление товаров как линейных комбинаций тем, полученных после семантической индексации матрицы item-feature -----> после логистическая регрессия для каждого юзера \n",
    "- LSI-UP - представляет профели юзеров как линейные комбинации товаров -----> семантическая индексация результирующей матрицы. Матрица user-feature состоит из векторов пользователей, в которых сложены веторы фичей товаров, с которым каждый пользователь имел положительное взаимодействие.  \n",
    "- LightFM (tags) - только фичи тэгов\n",
    "- LightFM (tags + ids) - фичи тэгов и товаров\n",
    "- LightFM (tags + about) - для CrossValidated фичи тегов и юзеров.\n",
    "\n",
    "Стохастический гадиентный спуск, начальная скорость обучения 0.05, критерий остановки - прекращение улучшения показателей.\n",
    "\n",
    "Теплый старт \n",
    "- для MovieLens + Tag Genome показатель модели LightFM (tags + ids) выше, что значает, что использование метаданных может улучшить результат даже для датасетов с большим количеством информации о взаимодействии юзер-товар. Другие модели справились хожу, а LightFM (tags) примерно равна MF по производительности, хотя использует только метаданные.\n",
    "\n",
    "- для CrossValidated LightFM (tags + about) показала лучший результат, MF очень низкий показатель, остальные модели чуть лучше.\n",
    "\n",
    "Холодного запуск\n",
    "\n",
    "Модели показали аналогичную статистику для холодного запуска.\n",
    "LSI-LR показала себя лучше LSI-UP для всех случаев (предположительно потому что юзеров в датасете меньше, чем товаров).\n",
    "\n",
    "Эбеддинги LightFM согут использоваться для большого количества рекомендательных задач.\n",
    "Lyst использует LightFM в купе с поиском ближайших соседей (RP trees)."
   ]
  },
  {
   "cell_type": "markdown",
   "metadata": {
    "id": "n19OhGm_z7_7"
   },
   "source": [
    "## Практическая часть\n"
   ]
  },
  {
   "cell_type": "code",
   "execution_count": 3,
   "metadata": {},
   "outputs": [
    {
     "name": "stdout",
     "output_type": "stream",
     "text": [
      "Requirement already satisfied: lightfm in c:\\users\\sklod\\anaconda3\\lib\\site-packages (1.16)\n",
      "Requirement already satisfied: scipy>=0.17.0 in c:\\users\\sklod\\anaconda3\\lib\\site-packages (from lightfm) (1.4.1)\n",
      "Requirement already satisfied: requests in c:\\users\\sklod\\anaconda3\\lib\\site-packages (from lightfm) (2.24.0)\n",
      "Requirement already satisfied: numpy in c:\\users\\sklod\\anaconda3\\lib\\site-packages (from lightfm) (1.18.5)\n",
      "Requirement already satisfied: scikit-learn in c:\\users\\sklod\\anaconda3\\lib\\site-packages (from lightfm) (1.0)\n",
      "Requirement already satisfied: idna<3,>=2.5 in c:\\users\\sklod\\anaconda3\\lib\\site-packages (from requests->lightfm) (2.10)\n",
      "Requirement already satisfied: urllib3!=1.25.0,!=1.25.1,<1.26,>=1.21.1 in c:\\users\\sklod\\anaconda3\\lib\\site-packages (from requests->lightfm) (1.25.9)\n",
      "Requirement already satisfied: certifi>=2017.4.17 in c:\\users\\sklod\\anaconda3\\lib\\site-packages (from requests->lightfm) (2020.6.20)\n",
      "Requirement already satisfied: chardet<4,>=3.0.2 in c:\\users\\sklod\\anaconda3\\lib\\site-packages (from requests->lightfm) (3.0.4)\n",
      "Requirement already satisfied: threadpoolctl>=2.0.0 in c:\\users\\sklod\\anaconda3\\lib\\site-packages (from scikit-learn->lightfm) (2.1.0)\n",
      "Requirement already satisfied: joblib>=0.11 in c:\\users\\sklod\\anaconda3\\lib\\site-packages (from scikit-learn->lightfm) (0.16.0)\n"
     ]
    }
   ],
   "source": [
    "!pip install lightfm"
   ]
  },
  {
   "cell_type": "code",
   "execution_count": 12,
   "metadata": {},
   "outputs": [],
   "source": [
    "import pandas as pd\n",
    "import numpy as np\n",
    "import matplotlib.pyplot as plt\n",
    "%matplotlib inline\n",
    "\n",
    "# Для работы с матрицами\n",
    "from scipy.sparse import csr_matrix, coo_matrix\n",
    "\n",
    "# Матричная факторизация\n",
    "from implicit.als import AlternatingLeastSquares\n",
    "from implicit.nearest_neighbours import bm25_weight, tfidf_weight\n",
    "\n",
    "from lightfm import LightFM\n",
    "from lightfm.evaluation import precision_at_k, recall_at_k\n",
    "\n",
    "# Функции из 1-ого вебинара\n",
    "import os, sys\n",
    "\n",
    "# module_path = os.path.abspath(os.path.join(os.pardir))\n",
    "# if module_path not in sys.path:\n",
    "#     sys.path.append(module_path)\n"
   ]
  },
  {
   "cell_type": "markdown",
   "metadata": {
    "id": "jZnN3kRlz7__"
   },
   "source": [
    "### 1. Модуль SRC"
   ]
  },
  {
   "cell_type": "markdown",
   "metadata": {
    "id": "OKLq6JBxz8AA"
   },
   "source": [
    "На вебинаре было рассказано про модуль src. Он приложен в материалах. Скачайте его, изучите структуру, импортируйте функции"
   ]
  },
  {
   "cell_type": "code",
   "execution_count": 13,
   "metadata": {},
   "outputs": [],
   "source": [
    "sys.path.append('C:/Users/sklod/OneDrive/Рабочий стол/STUDY/!Теория/Q4.Рекомендательные системы/src')\n",
    "    \n",
    "#from src.metrics import precision_at_k as precision_at_k_\n",
    "#from src.metrics import recall_at_k as recall_at_k_\n",
    "#from src.utils import prefilter_items\n",
    "\n",
    "import utils\n",
    "from utils import prefilter_items"
   ]
  },
  {
   "cell_type": "code",
   "execution_count": 54,
   "metadata": {},
   "outputs": [
    {
     "data": {
      "text/html": [
       "<div>\n",
       "<style scoped>\n",
       "    .dataframe tbody tr th:only-of-type {\n",
       "        vertical-align: middle;\n",
       "    }\n",
       "\n",
       "    .dataframe tbody tr th {\n",
       "        vertical-align: top;\n",
       "    }\n",
       "\n",
       "    .dataframe thead th {\n",
       "        text-align: right;\n",
       "    }\n",
       "</style>\n",
       "<table border=\"1\" class=\"dataframe\">\n",
       "  <thead>\n",
       "    <tr style=\"text-align: right;\">\n",
       "      <th></th>\n",
       "      <th>user_id</th>\n",
       "      <th>basket_id</th>\n",
       "      <th>day</th>\n",
       "      <th>item_id</th>\n",
       "      <th>quantity</th>\n",
       "      <th>sales_value</th>\n",
       "      <th>store_id</th>\n",
       "      <th>retail_disc</th>\n",
       "      <th>trans_time</th>\n",
       "      <th>week_no</th>\n",
       "      <th>coupon_disc</th>\n",
       "      <th>coupon_match_disc</th>\n",
       "    </tr>\n",
       "  </thead>\n",
       "  <tbody>\n",
       "    <tr>\n",
       "      <th>0</th>\n",
       "      <td>2375</td>\n",
       "      <td>26984851472</td>\n",
       "      <td>1</td>\n",
       "      <td>1004906</td>\n",
       "      <td>1</td>\n",
       "      <td>1.39</td>\n",
       "      <td>364</td>\n",
       "      <td>-0.60</td>\n",
       "      <td>1631</td>\n",
       "      <td>1</td>\n",
       "      <td>0.0</td>\n",
       "      <td>0.0</td>\n",
       "    </tr>\n",
       "    <tr>\n",
       "      <th>1</th>\n",
       "      <td>2375</td>\n",
       "      <td>26984851472</td>\n",
       "      <td>1</td>\n",
       "      <td>1033142</td>\n",
       "      <td>1</td>\n",
       "      <td>0.82</td>\n",
       "      <td>364</td>\n",
       "      <td>0.00</td>\n",
       "      <td>1631</td>\n",
       "      <td>1</td>\n",
       "      <td>0.0</td>\n",
       "      <td>0.0</td>\n",
       "    </tr>\n",
       "    <tr>\n",
       "      <th>2</th>\n",
       "      <td>2375</td>\n",
       "      <td>26984851472</td>\n",
       "      <td>1</td>\n",
       "      <td>1036325</td>\n",
       "      <td>1</td>\n",
       "      <td>0.99</td>\n",
       "      <td>364</td>\n",
       "      <td>-0.30</td>\n",
       "      <td>1631</td>\n",
       "      <td>1</td>\n",
       "      <td>0.0</td>\n",
       "      <td>0.0</td>\n",
       "    </tr>\n",
       "    <tr>\n",
       "      <th>3</th>\n",
       "      <td>2375</td>\n",
       "      <td>26984851472</td>\n",
       "      <td>1</td>\n",
       "      <td>1082185</td>\n",
       "      <td>1</td>\n",
       "      <td>1.21</td>\n",
       "      <td>364</td>\n",
       "      <td>0.00</td>\n",
       "      <td>1631</td>\n",
       "      <td>1</td>\n",
       "      <td>0.0</td>\n",
       "      <td>0.0</td>\n",
       "    </tr>\n",
       "    <tr>\n",
       "      <th>4</th>\n",
       "      <td>2375</td>\n",
       "      <td>26984851472</td>\n",
       "      <td>1</td>\n",
       "      <td>8160430</td>\n",
       "      <td>1</td>\n",
       "      <td>1.50</td>\n",
       "      <td>364</td>\n",
       "      <td>-0.39</td>\n",
       "      <td>1631</td>\n",
       "      <td>1</td>\n",
       "      <td>0.0</td>\n",
       "      <td>0.0</td>\n",
       "    </tr>\n",
       "  </tbody>\n",
       "</table>\n",
       "</div>"
      ],
      "text/plain": [
       "   user_id    basket_id  day  item_id  quantity  sales_value  store_id  \\\n",
       "0     2375  26984851472    1  1004906         1         1.39       364   \n",
       "1     2375  26984851472    1  1033142         1         0.82       364   \n",
       "2     2375  26984851472    1  1036325         1         0.99       364   \n",
       "3     2375  26984851472    1  1082185         1         1.21       364   \n",
       "4     2375  26984851472    1  8160430         1         1.50       364   \n",
       "\n",
       "   retail_disc  trans_time  week_no  coupon_disc  coupon_match_disc  \n",
       "0        -0.60        1631        1          0.0                0.0  \n",
       "1         0.00        1631        1          0.0                0.0  \n",
       "2        -0.30        1631        1          0.0                0.0  \n",
       "3         0.00        1631        1          0.0                0.0  \n",
       "4        -0.39        1631        1          0.0                0.0  "
      ]
     },
     "execution_count": 54,
     "metadata": {},
     "output_type": "execute_result"
    }
   ],
   "source": [
    "data = pd.read_csv('C:/Users/sklod/OneDrive/Рабочий стол/STUDY/!Теория/Q4.Рекомендательные системы/retail_train.csv')\n",
    "item_features = pd.read_csv('C:/Users/sklod/OneDrive/Рабочий стол/STUDY/!Теория/Q4.Рекомендательные системы/product.csv')\n",
    "user_features = pd.read_csv('C:/Users/sklod/OneDrive/Рабочий стол/STUDY/!Теория/Q4.Рекомендательные системы/hh_demographic.csv')\n",
    "\n",
    "# column processing\n",
    "item_features.columns = [col.lower() for col in item_features.columns]\n",
    "user_features.columns = [col.lower() for col in user_features.columns]\n",
    "\n",
    "item_features.rename(columns={'product_id': 'item_id'}, inplace=True)\n",
    "user_features.rename(columns={'household_key': 'user_id'}, inplace=True)\n",
    "\n",
    "# train test split\n",
    "test_size_weeks = 3\n",
    "\n",
    "data_train = data[data['week_no'] < data['week_no'].max() - test_size_weeks]\n",
    "data_test = data[data['week_no'] >= data['week_no'].max() - test_size_weeks]\n",
    "\n",
    "data_train.head()"
   ]
  },
  {
   "cell_type": "code",
   "execution_count": 97,
   "metadata": {},
   "outputs": [
    {
     "name": "stdout",
     "output_type": "stream",
     "text": [
      "Decreased # items from 86865 to 5001\n"
     ]
    }
   ],
   "source": [
    "#Filter items - тестируем модуль src.prefilter_items\n",
    "\n",
    "n_items_before = data_train['item_id'].nunique()\n",
    "\n",
    "data_train = prefilter_items(data_train)\n",
    "\n",
    "n_items_after = data_train['item_id'].nunique()\n",
    "print('Decreased # items from {} to {}'.format(n_items_before, n_items_after))"
   ]
  },
  {
   "cell_type": "code",
   "execution_count": 98,
   "metadata": {},
   "outputs": [],
   "source": [
    "data_test = prefilter_items(data_test)"
   ]
  },
  {
   "cell_type": "markdown",
   "metadata": {
    "id": "H5PtkoIlz8AB"
   },
   "source": [
    "### 2. Работа с признаками"
   ]
  },
  {
   "cell_type": "markdown",
   "metadata": {
    "id": "U29uOLDNz8AC"
   },
   "source": [
    "У нас есть внешние данные. Что с ними не так? Чего не хватает?  \n",
    "\n",
    "Проведите исследование внешних данных и составьте какие-нибудь содержательные выводы.  \n",
    "Формально Вам нужно построить 3+ графиков (scatter plot, hist или что-то иное) и описать, что мы видим (например, товары такой-то категории болле часто покупаются в следующие дни недели или пользователи с большим достатком предпочитают такие-то товары).  \n",
    "Исследуйте те закономерности, которые Вам интересно, чем менее тривиальный вывод получается, тем лучше! "
   ]
  },
  {
   "cell_type": "markdown",
   "metadata": {},
   "source": [
    "##### Сначала исследуем фичи товаров"
   ]
  },
  {
   "cell_type": "code",
   "execution_count": 17,
   "metadata": {},
   "outputs": [
    {
     "data": {
      "text/html": [
       "<div>\n",
       "<style scoped>\n",
       "    .dataframe tbody tr th:only-of-type {\n",
       "        vertical-align: middle;\n",
       "    }\n",
       "\n",
       "    .dataframe tbody tr th {\n",
       "        vertical-align: top;\n",
       "    }\n",
       "\n",
       "    .dataframe thead th {\n",
       "        text-align: right;\n",
       "    }\n",
       "</style>\n",
       "<table border=\"1\" class=\"dataframe\">\n",
       "  <thead>\n",
       "    <tr style=\"text-align: right;\">\n",
       "      <th></th>\n",
       "      <th>item_id</th>\n",
       "      <th>manufacturer</th>\n",
       "      <th>department</th>\n",
       "      <th>brand</th>\n",
       "      <th>commodity_desc</th>\n",
       "      <th>sub_commodity_desc</th>\n",
       "      <th>curr_size_of_product</th>\n",
       "    </tr>\n",
       "  </thead>\n",
       "  <tbody>\n",
       "    <tr>\n",
       "      <th>0</th>\n",
       "      <td>25671</td>\n",
       "      <td>2</td>\n",
       "      <td>GROCERY</td>\n",
       "      <td>National</td>\n",
       "      <td>FRZN ICE</td>\n",
       "      <td>ICE - CRUSHED/CUBED</td>\n",
       "      <td>22 LB</td>\n",
       "    </tr>\n",
       "    <tr>\n",
       "      <th>1</th>\n",
       "      <td>26081</td>\n",
       "      <td>2</td>\n",
       "      <td>MISC. TRANS.</td>\n",
       "      <td>National</td>\n",
       "      <td>NO COMMODITY DESCRIPTION</td>\n",
       "      <td>NO SUBCOMMODITY DESCRIPTION</td>\n",
       "      <td></td>\n",
       "    </tr>\n",
       "    <tr>\n",
       "      <th>2</th>\n",
       "      <td>26093</td>\n",
       "      <td>69</td>\n",
       "      <td>PASTRY</td>\n",
       "      <td>Private</td>\n",
       "      <td>BREAD</td>\n",
       "      <td>BREAD:ITALIAN/FRENCH</td>\n",
       "      <td></td>\n",
       "    </tr>\n",
       "    <tr>\n",
       "      <th>3</th>\n",
       "      <td>26190</td>\n",
       "      <td>69</td>\n",
       "      <td>GROCERY</td>\n",
       "      <td>Private</td>\n",
       "      <td>FRUIT - SHELF STABLE</td>\n",
       "      <td>APPLE SAUCE</td>\n",
       "      <td>50 OZ</td>\n",
       "    </tr>\n",
       "    <tr>\n",
       "      <th>4</th>\n",
       "      <td>26355</td>\n",
       "      <td>69</td>\n",
       "      <td>GROCERY</td>\n",
       "      <td>Private</td>\n",
       "      <td>COOKIES/CONES</td>\n",
       "      <td>SPECIALTY COOKIES</td>\n",
       "      <td>14 OZ</td>\n",
       "    </tr>\n",
       "  </tbody>\n",
       "</table>\n",
       "</div>"
      ],
      "text/plain": [
       "   item_id  manufacturer    department     brand            commodity_desc  \\\n",
       "0    25671             2       GROCERY  National                  FRZN ICE   \n",
       "1    26081             2  MISC. TRANS.  National  NO COMMODITY DESCRIPTION   \n",
       "2    26093            69        PASTRY   Private                     BREAD   \n",
       "3    26190            69       GROCERY   Private      FRUIT - SHELF STABLE   \n",
       "4    26355            69       GROCERY   Private             COOKIES/CONES   \n",
       "\n",
       "            sub_commodity_desc curr_size_of_product  \n",
       "0          ICE - CRUSHED/CUBED                22 LB  \n",
       "1  NO SUBCOMMODITY DESCRIPTION                       \n",
       "2         BREAD:ITALIAN/FRENCH                       \n",
       "3                  APPLE SAUCE                50 OZ  \n",
       "4            SPECIALTY COOKIES                14 OZ  "
      ]
     },
     "execution_count": 17,
     "metadata": {},
     "output_type": "execute_result"
    }
   ],
   "source": [
    "item_features.head(5)"
   ]
  },
  {
   "cell_type": "code",
   "execution_count": 18,
   "metadata": {},
   "outputs": [
    {
     "name": "stdout",
     "output_type": "stream",
     "text": [
      "<class 'pandas.core.frame.DataFrame'>\n",
      "RangeIndex: 92353 entries, 0 to 92352\n",
      "Data columns (total 7 columns):\n",
      " #   Column                Non-Null Count  Dtype \n",
      "---  ------                --------------  ----- \n",
      " 0   item_id               92353 non-null  int64 \n",
      " 1   manufacturer          92353 non-null  int64 \n",
      " 2   department            92353 non-null  object\n",
      " 3   brand                 92353 non-null  object\n",
      " 4   commodity_desc        92353 non-null  object\n",
      " 5   sub_commodity_desc    92353 non-null  object\n",
      " 6   curr_size_of_product  92353 non-null  object\n",
      "dtypes: int64(2), object(5)\n",
      "memory usage: 4.9+ MB\n"
     ]
    }
   ],
   "source": [
    "item_features.info()"
   ]
  },
  {
   "cell_type": "code",
   "execution_count": 28,
   "metadata": {},
   "outputs": [
    {
     "data": {
      "text/plain": [
       "6476"
      ]
     },
     "execution_count": 28,
     "metadata": {},
     "output_type": "execute_result"
    }
   ],
   "source": [
    "item_features['manufacturer'].nunique()"
   ]
  },
  {
   "cell_type": "code",
   "execution_count": 44,
   "metadata": {},
   "outputs": [
    {
     "data": {
      "text/plain": [
       "69      12676\n",
       "2        1411\n",
       "5423     1376\n",
       "764      1332\n",
       "1407     1210\n",
       "        ...  \n",
       "659         1\n",
       "5864        1\n",
       "1770        1\n",
       "2642        1\n",
       "1887        1\n",
       "Name: manufacturer, Length: 6476, dtype: int64"
      ]
     },
     "execution_count": 44,
     "metadata": {},
     "output_type": "execute_result"
    }
   ],
   "source": [
    "item_features['manufacturer'].value_counts() #очевиден большой разброс в данных, распределение неравномерное"
   ]
  },
  {
   "cell_type": "code",
   "execution_count": 22,
   "metadata": {},
   "outputs": [
    {
     "data": {
      "text/plain": [
       "44"
      ]
     },
     "execution_count": 22,
     "metadata": {},
     "output_type": "execute_result"
    }
   ],
   "source": [
    "item_features['department'].nunique()"
   ]
  },
  {
   "cell_type": "code",
   "execution_count": 26,
   "metadata": {},
   "outputs": [
    {
     "data": {
      "text/plain": [
       "<function matplotlib.pyplot.show(*args, **kw)>"
      ]
     },
     "execution_count": 26,
     "metadata": {},
     "output_type": "execute_result"
    },
    {
     "data": {
      "image/png": "[encoded data removed]",
      "text/plain": [
       "<Figure size 432x288 with 1 Axes>"
      ]
     },
     "metadata": {
      "needs_background": "light"
     },
     "output_type": "display_data"
    }
   ],
   "source": [
    "item_features['department'].value_counts().plot(kind='bar') #очевиден огромный разброс в данных, распределение неравномерное\n",
    "plt.show"
   ]
  },
  {
   "cell_type": "code",
   "execution_count": 33,
   "metadata": {},
   "outputs": [
    {
     "data": {
      "text/plain": [
       "National    0.8504\n",
       "Private     0.1496\n",
       "Name: brand, dtype: float64"
      ]
     },
     "execution_count": 33,
     "metadata": {},
     "output_type": "execute_result"
    }
   ],
   "source": [
    "item_features['brand'].value_counts(normalize=True) #довольно мало товаров СТМ"
   ]
  },
  {
   "cell_type": "code",
   "execution_count": 35,
   "metadata": {},
   "outputs": [
    {
     "data": {
      "text/plain": [
       "308"
      ]
     },
     "execution_count": 35,
     "metadata": {},
     "output_type": "execute_result"
    }
   ],
   "source": [
    "item_features['commodity_desc'].nunique()"
   ]
  },
  {
   "cell_type": "code",
   "execution_count": 36,
   "metadata": {},
   "outputs": [
    {
     "data": {
      "text/plain": [
       "GREETING CARDS/WRAP/PARTY SPLY    0.030156\n",
       "CANDY - PACKAGED                  0.026799\n",
       "MAKEUP AND TREATMENT              0.026713\n",
       "HAIR CARE PRODUCTS                0.018884\n",
       "SOFT DRINKS                       0.018451\n",
       "                                    ...   \n",
       "MISCELLANEOUS CROUTONS            0.000011\n",
       "BOUQUET (NON ROSE)                0.000011\n",
       "EASTER LILY                       0.000011\n",
       "PKG.SEAFOOD MISC                  0.000011\n",
       "FROZEN PACKAGE MEAT               0.000011\n",
       "Name: commodity_desc, Length: 308, dtype: float64"
      ]
     },
     "execution_count": 36,
     "metadata": {},
     "output_type": "execute_result"
    }
   ],
   "source": [
    "item_features['commodity_desc'].value_counts(normalize=True) #тоже большой разброс"
   ]
  },
  {
   "cell_type": "code",
   "execution_count": 39,
   "metadata": {},
   "outputs": [
    {
     "data": {
      "text/plain": [
       "2383"
      ]
     },
     "execution_count": 39,
     "metadata": {},
     "output_type": "execute_result"
    }
   ],
   "source": [
    "item_features['sub_commodity_desc'].nunique()"
   ]
  },
  {
   "cell_type": "code",
   "execution_count": 38,
   "metadata": {},
   "outputs": [
    {
     "data": {
      "text/plain": [
       "4345"
      ]
     },
     "execution_count": 38,
     "metadata": {},
     "output_type": "execute_result"
    }
   ],
   "source": [
    "item_features['curr_size_of_product'].nunique()"
   ]
  },
  {
   "cell_type": "code",
   "execution_count": 41,
   "metadata": {},
   "outputs": [
    {
     "data": {
      "text/plain": [
       "              0.331413\n",
       "16 OZ         0.042489\n",
       "12 OZ         0.037606\n",
       "8 OZ          0.025587\n",
       "6 OZ          0.018375\n",
       "                ...   \n",
       "23.04 OZ      0.000011\n",
       "R     6 OZ    0.000011\n",
       "11.75OZ       0.000011\n",
       "16.50 OZ      0.000011\n",
       "1444340CT     0.000011\n",
       "Name: curr_size_of_product, Length: 4345, dtype: float64"
      ]
     },
     "execution_count": 41,
     "metadata": {},
     "output_type": "execute_result"
    }
   ],
   "source": [
    "item_features['curr_size_of_product'].value_counts(normalize=True) # больше всего товаров с незаполненными габаритами"
   ]
  },
  {
   "cell_type": "code",
   "execution_count": 43,
   "metadata": {},
   "outputs": [
    {
     "data": {
      "text/plain": [
       "False    92353\n",
       "Name: curr_size_of_product, dtype: int64"
      ]
     },
     "execution_count": 43,
     "metadata": {},
     "output_type": "execute_result"
    }
   ],
   "source": [
    "item_features['curr_size_of_product'].isnull().value_counts() # но при этом пустое значение не считается пробелом в данных"
   ]
  },
  {
   "cell_type": "markdown",
   "metadata": {},
   "source": [
    "##### Исследуем фичи пользователей"
   ]
  },
  {
   "cell_type": "code",
   "execution_count": 46,
   "metadata": {},
   "outputs": [
    {
     "data": {
      "text/html": [
       "<div>\n",
       "<style scoped>\n",
       "    .dataframe tbody tr th:only-of-type {\n",
       "        vertical-align: middle;\n",
       "    }\n",
       "\n",
       "    .dataframe tbody tr th {\n",
       "        vertical-align: top;\n",
       "    }\n",
       "\n",
       "    .dataframe thead th {\n",
       "        text-align: right;\n",
       "    }\n",
       "</style>\n",
       "<table border=\"1\" class=\"dataframe\">\n",
       "  <thead>\n",
       "    <tr style=\"text-align: right;\">\n",
       "      <th></th>\n",
       "      <th>age_desc</th>\n",
       "      <th>marital_status_code</th>\n",
       "      <th>income_desc</th>\n",
       "      <th>homeowner_desc</th>\n",
       "      <th>hh_comp_desc</th>\n",
       "      <th>household_size_desc</th>\n",
       "      <th>kid_category_desc</th>\n",
       "      <th>user_id</th>\n",
       "    </tr>\n",
       "  </thead>\n",
       "  <tbody>\n",
       "    <tr>\n",
       "      <th>0</th>\n",
       "      <td>65+</td>\n",
       "      <td>A</td>\n",
       "      <td>35-49K</td>\n",
       "      <td>Homeowner</td>\n",
       "      <td>2 Adults No Kids</td>\n",
       "      <td>2</td>\n",
       "      <td>None/Unknown</td>\n",
       "      <td>1</td>\n",
       "    </tr>\n",
       "    <tr>\n",
       "      <th>1</th>\n",
       "      <td>45-54</td>\n",
       "      <td>A</td>\n",
       "      <td>50-74K</td>\n",
       "      <td>Homeowner</td>\n",
       "      <td>2 Adults No Kids</td>\n",
       "      <td>2</td>\n",
       "      <td>None/Unknown</td>\n",
       "      <td>7</td>\n",
       "    </tr>\n",
       "    <tr>\n",
       "      <th>2</th>\n",
       "      <td>25-34</td>\n",
       "      <td>U</td>\n",
       "      <td>25-34K</td>\n",
       "      <td>Unknown</td>\n",
       "      <td>2 Adults Kids</td>\n",
       "      <td>3</td>\n",
       "      <td>1</td>\n",
       "      <td>8</td>\n",
       "    </tr>\n",
       "    <tr>\n",
       "      <th>3</th>\n",
       "      <td>25-34</td>\n",
       "      <td>U</td>\n",
       "      <td>75-99K</td>\n",
       "      <td>Homeowner</td>\n",
       "      <td>2 Adults Kids</td>\n",
       "      <td>4</td>\n",
       "      <td>2</td>\n",
       "      <td>13</td>\n",
       "    </tr>\n",
       "    <tr>\n",
       "      <th>4</th>\n",
       "      <td>45-54</td>\n",
       "      <td>B</td>\n",
       "      <td>50-74K</td>\n",
       "      <td>Homeowner</td>\n",
       "      <td>Single Female</td>\n",
       "      <td>1</td>\n",
       "      <td>None/Unknown</td>\n",
       "      <td>16</td>\n",
       "    </tr>\n",
       "  </tbody>\n",
       "</table>\n",
       "</div>"
      ],
      "text/plain": [
       "  age_desc marital_status_code income_desc homeowner_desc      hh_comp_desc  \\\n",
       "0      65+                   A      35-49K      Homeowner  2 Adults No Kids   \n",
       "1    45-54                   A      50-74K      Homeowner  2 Adults No Kids   \n",
       "2    25-34                   U      25-34K        Unknown     2 Adults Kids   \n",
       "3    25-34                   U      75-99K      Homeowner     2 Adults Kids   \n",
       "4    45-54                   B      50-74K      Homeowner     Single Female   \n",
       "\n",
       "  household_size_desc kid_category_desc  user_id  \n",
       "0                   2      None/Unknown        1  \n",
       "1                   2      None/Unknown        7  \n",
       "2                   3                 1        8  \n",
       "3                   4                 2       13  \n",
       "4                   1      None/Unknown       16  "
      ]
     },
     "execution_count": 46,
     "metadata": {},
     "output_type": "execute_result"
    }
   ],
   "source": [
    "user_features.head()"
   ]
  },
  {
   "cell_type": "code",
   "execution_count": 45,
   "metadata": {},
   "outputs": [
    {
     "name": "stdout",
     "output_type": "stream",
     "text": [
      "<class 'pandas.core.frame.DataFrame'>\n",
      "RangeIndex: 801 entries, 0 to 800\n",
      "Data columns (total 8 columns):\n",
      " #   Column               Non-Null Count  Dtype \n",
      "---  ------               --------------  ----- \n",
      " 0   age_desc             801 non-null    object\n",
      " 1   marital_status_code  801 non-null    object\n",
      " 2   income_desc          801 non-null    object\n",
      " 3   homeowner_desc       801 non-null    object\n",
      " 4   hh_comp_desc         801 non-null    object\n",
      " 5   household_size_desc  801 non-null    object\n",
      " 6   kid_category_desc    801 non-null    object\n",
      " 7   user_id              801 non-null    int64 \n",
      "dtypes: int64(1), object(7)\n",
      "memory usage: 50.2+ KB\n"
     ]
    }
   ],
   "source": [
    "user_features.info()"
   ]
  },
  {
   "cell_type": "code",
   "execution_count": 47,
   "metadata": {},
   "outputs": [
    {
     "data": {
      "text/plain": [
       "6"
      ]
     },
     "execution_count": 47,
     "metadata": {},
     "output_type": "execute_result"
    }
   ],
   "source": [
    "user_features['age_desc'].nunique()"
   ]
  },
  {
   "cell_type": "code",
   "execution_count": 49,
   "metadata": {},
   "outputs": [
    {
     "data": {
      "text/plain": [
       "<function matplotlib.pyplot.show(*args, **kw)>"
      ]
     },
     "execution_count": 49,
     "metadata": {},
     "output_type": "execute_result"
    },
    {
     "data": {
      "image/png": "[encoded data removed]",
      "text/plain": [
       "<Figure size 432x288 with 1 Axes>"
      ]
     },
     "metadata": {
      "needs_background": "light"
     },
     "output_type": "display_data"
    }
   ],
   "source": [
    "user_features['age_desc'].value_counts().plot(kind='bar') #юзеры в возарсте 45-54 совершают больше всего покупок\n",
    "plt.show"
   ]
  },
  {
   "cell_type": "code",
   "execution_count": 53,
   "metadata": {},
   "outputs": [
    {
     "data": {
      "text/plain": [
       "<function matplotlib.pyplot.show(*args, **kw)>"
      ]
     },
     "execution_count": 53,
     "metadata": {},
     "output_type": "execute_result"
    },
    {
     "data": {
      "image/png": "[encoded data removed]",
      "text/plain": [
       "<Figure size 432x288 with 1 Axes>"
      ]
     },
     "metadata": {
      "needs_background": "light"
     },
     "output_type": "display_data"
    }
   ],
   "source": [
    "user_features['income_desc'].value_counts().plot(kind='bar')\n",
    "plt.show"
   ]
  },
  {
   "cell_type": "code",
   "execution_count": 85,
   "metadata": {},
   "outputs": [],
   "source": [
    "import seaborn as sns"
   ]
  },
  {
   "cell_type": "code",
   "execution_count": 84,
   "metadata": {},
   "outputs": [
    {
     "data": {
      "image/png": "[encoded data removed]",
      "text/plain": [
       "<Figure size 432x288 with 1 Axes>"
      ]
     },
     "metadata": {
      "needs_background": "light"
     },
     "output_type": "display_data"
    }
   ],
   "source": [
    "#ожидаемо, что пенсионеры имеют более низкий доход\n",
    "sns.scatterplot(data=user_features, x='age_desc', y='income_desc')\n",
    "#plt.xlabel('age_desc')\n",
    "#plt.ylabel('income_desc')\n",
    "plt.title('Age and income');"
   ]
  },
  {
   "cell_type": "code",
   "execution_count": 51,
   "metadata": {},
   "outputs": [
    {
     "data": {
      "text/plain": [
       "<function matplotlib.pyplot.show(*args, **kw)>"
      ]
     },
     "execution_count": 51,
     "metadata": {},
     "output_type": "execute_result"
    },
    {
     "data": {
      "image/png": "[encoded data removed]",
      "text/plain": [
       "<Figure size 432x288 with 1 Axes>"
      ]
     },
     "metadata": {
      "needs_background": "light"
     },
     "output_type": "display_data"
    }
   ],
   "source": [
    "user_features['marital_status_code'].value_counts().plot(kind='bar')\n",
    "plt.show"
   ]
  },
  {
   "cell_type": "code",
   "execution_count": 63,
   "metadata": {},
   "outputs": [
    {
     "data": {
      "text/plain": [
       "<function matplotlib.pyplot.show(*args, **kw)>"
      ]
     },
     "execution_count": 63,
     "metadata": {},
     "output_type": "execute_result"
    },
    {
     "data": {
      "image/png": "[encoded data removed]",
      "text/plain": [
       "<Figure size 432x288 with 1 Axes>"
      ]
     },
     "metadata": {
      "needs_background": "light"
     },
     "output_type": "display_data"
    }
   ],
   "source": [
    "user_features['homeowner_desc'].value_counts().plot(kind='bar') #большой разброс по кол-вам\n",
    "plt.show"
   ]
  },
  {
   "cell_type": "code",
   "execution_count": 65,
   "metadata": {},
   "outputs": [
    {
     "data": {
      "text/plain": [
       "<function matplotlib.pyplot.show(*args, **kw)>"
      ]
     },
     "execution_count": 65,
     "metadata": {},
     "output_type": "execute_result"
    },
    {
     "data": {
      "image/png": "[encoded data removed]",
      "text/plain": [
       "<Figure size 432x288 with 1 Axes>"
      ]
     },
     "metadata": {
      "needs_background": "light"
     },
     "output_type": "display_data"
    }
   ],
   "source": [
    "user_features['hh_comp_desc'].value_counts().plot(kind='bar') #\n",
    "plt.show"
   ]
  },
  {
   "cell_type": "code",
   "execution_count": 67,
   "metadata": {},
   "outputs": [
    {
     "data": {
      "text/plain": [
       "<function matplotlib.pyplot.show(*args, **kw)>"
      ]
     },
     "execution_count": 67,
     "metadata": {},
     "output_type": "execute_result"
    },
    {
     "data": {
      "image/png": "[encoded data removed]",
      "text/plain": [
       "<Figure size 432x288 with 1 Axes>"
      ]
     },
     "metadata": {
      "needs_background": "light"
     },
     "output_type": "display_data"
    }
   ],
   "source": [
    "user_features['household_size_desc'].value_counts().plot(kind='bar') #\n",
    "plt.show"
   ]
  },
  {
   "cell_type": "code",
   "execution_count": 72,
   "metadata": {},
   "outputs": [
    {
     "data": {
      "text/plain": [
       "<function matplotlib.pyplot.show(*args, **kw)>"
      ]
     },
     "execution_count": 72,
     "metadata": {},
     "output_type": "execute_result"
    },
    {
     "data": {
      "image/png": "[encoded data removed]",
      "text/plain": [
       "<Figure size 432x288 with 1 Axes>"
      ]
     },
     "metadata": {
      "needs_background": "light"
     },
     "output_type": "display_data"
    }
   ],
   "source": [
    "user_features['kid_category_desc'].value_counts().plot(kind='bar') #очень много неизвестных\n",
    "plt.show"
   ]
  },
  {
   "cell_type": "code",
   "execution_count": 96,
   "metadata": {},
   "outputs": [
    {
     "data": {
      "text/plain": [
       "<matplotlib.axes._subplots.AxesSubplot at 0x20d11b059a0>"
      ]
     },
     "execution_count": 96,
     "metadata": {},
     "output_type": "execute_result"
    },
    {
     "data": {
      "image/png": "[encoded data removed]",
      "text/plain": [
       "<Figure size 432x288 with 2 Axes>"
      ]
     },
     "metadata": {
      "needs_background": "light"
     },
     "output_type": "display_data"
    }
   ],
   "source": [
    "pivot = user_features.pivot_table(\n",
    "    index=[\"age_desc\"],\n",
    "    columns=[\"kid_category_desc\"],\n",
    "    aggfunc=np.average)\n",
    "sns.heatmap(pivot)"
   ]
  },
  {
   "cell_type": "code",
   "execution_count": 115,
   "metadata": {},
   "outputs": [
    {
     "data": {
      "text/html": [
       "<div>\n",
       "<style scoped>\n",
       "    .dataframe tbody tr th:only-of-type {\n",
       "        vertical-align: middle;\n",
       "    }\n",
       "\n",
       "    .dataframe tbody tr th {\n",
       "        vertical-align: top;\n",
       "    }\n",
       "\n",
       "    .dataframe thead th {\n",
       "        text-align: right;\n",
       "    }\n",
       "</style>\n",
       "<table border=\"1\" class=\"dataframe\">\n",
       "  <thead>\n",
       "    <tr style=\"text-align: right;\">\n",
       "      <th></th>\n",
       "      <th>user_id</th>\n",
       "      <th>basket_id</th>\n",
       "      <th>day</th>\n",
       "      <th>quantity</th>\n",
       "      <th>sales_value</th>\n",
       "      <th>store_id</th>\n",
       "      <th>retail_disc</th>\n",
       "      <th>trans_time</th>\n",
       "      <th>week_no</th>\n",
       "      <th>coupon_disc</th>\n",
       "      <th>coupon_match_disc</th>\n",
       "      <th>price</th>\n",
       "      <th>manufacturer</th>\n",
       "      <th>department</th>\n",
       "      <th>brand</th>\n",
       "      <th>commodity_desc</th>\n",
       "      <th>sub_commodity_desc</th>\n",
       "      <th>curr_size_of_product</th>\n",
       "    </tr>\n",
       "    <tr>\n",
       "      <th>item_id</th>\n",
       "      <th></th>\n",
       "      <th></th>\n",
       "      <th></th>\n",
       "      <th></th>\n",
       "      <th></th>\n",
       "      <th></th>\n",
       "      <th></th>\n",
       "      <th></th>\n",
       "      <th></th>\n",
       "      <th></th>\n",
       "      <th></th>\n",
       "      <th></th>\n",
       "      <th></th>\n",
       "      <th></th>\n",
       "      <th></th>\n",
       "      <th></th>\n",
       "      <th></th>\n",
       "      <th></th>\n",
       "    </tr>\n",
       "  </thead>\n",
       "  <tbody>\n",
       "    <tr>\n",
       "      <th>1085983</th>\n",
       "      <td>2375</td>\n",
       "      <td>26984851516</td>\n",
       "      <td>1</td>\n",
       "      <td>1</td>\n",
       "      <td>2.99</td>\n",
       "      <td>364</td>\n",
       "      <td>-0.4</td>\n",
       "      <td>1642</td>\n",
       "      <td>1</td>\n",
       "      <td>0.0</td>\n",
       "      <td>0.0</td>\n",
       "      <td>2.99</td>\n",
       "      <td>586.0</td>\n",
       "      <td>GROCERY</td>\n",
       "      <td>National</td>\n",
       "      <td>COOKIES/CONES</td>\n",
       "      <td>TRAY PACK/CHOC CHIP COOKIES</td>\n",
       "      <td>18 OZ</td>\n",
       "    </tr>\n",
       "    <tr>\n",
       "      <th>999999</th>\n",
       "      <td>1364</td>\n",
       "      <td>26984896261</td>\n",
       "      <td>1</td>\n",
       "      <td>1</td>\n",
       "      <td>2.19</td>\n",
       "      <td>31742</td>\n",
       "      <td>0.0</td>\n",
       "      <td>1520</td>\n",
       "      <td>1</td>\n",
       "      <td>0.0</td>\n",
       "      <td>0.0</td>\n",
       "      <td>2.19</td>\n",
       "      <td>NaN</td>\n",
       "      <td>NaN</td>\n",
       "      <td>NaN</td>\n",
       "      <td>NaN</td>\n",
       "      <td>NaN</td>\n",
       "      <td>NaN</td>\n",
       "    </tr>\n",
       "  </tbody>\n",
       "</table>\n",
       "</div>"
      ],
      "text/plain": [
       "         user_id    basket_id  day  quantity  sales_value  store_id  \\\n",
       "item_id                                                               \n",
       "1085983     2375  26984851516    1         1         2.99       364   \n",
       "999999      1364  26984896261    1         1         2.19     31742   \n",
       "\n",
       "         retail_disc  trans_time  week_no  coupon_disc  coupon_match_disc  \\\n",
       "item_id                                                                     \n",
       "1085983         -0.4        1642        1          0.0                0.0   \n",
       "999999           0.0        1520        1          0.0                0.0   \n",
       "\n",
       "         price  manufacturer department     brand commodity_desc  \\\n",
       "item_id                                                            \n",
       "1085983   2.99         586.0    GROCERY  National  COOKIES/CONES   \n",
       "999999    2.19           NaN        NaN       NaN            NaN   \n",
       "\n",
       "                  sub_commodity_desc curr_size_of_product  \n",
       "item_id                                                    \n",
       "1085983  TRAY PACK/CHOC CHIP COOKIES                18 OZ  \n",
       "999999                           NaN                  NaN  "
      ]
     },
     "execution_count": 115,
     "metadata": {},
     "output_type": "execute_result"
    }
   ],
   "source": [
    "#исследуем закономерности\n",
    "item_feat_research = data_train.merge(item_features, on='item_id', how='left')\n",
    "item_feat_research.set_index('item_id', inplace=True)\n",
    "item_feat_research.head(2)"
   ]
  },
  {
   "cell_type": "code",
   "execution_count": 116,
   "metadata": {},
   "outputs": [
    {
     "data": {
      "image/png": "[encoded data removed]",
      "text/plain": [
       "<Figure size 432x288 with 1 Axes>"
      ]
     },
     "metadata": {
      "needs_background": "light"
     },
     "output_type": "display_data"
    }
   ],
   "source": [
    "# очевидно, что не все категории товаров вошли в трэйновый датасет\n",
    "# если сравнить с распределением товаров по категориям, то можно заметить, что не все наполненные категории дают хорошие продажи\n",
    "# например Cosmetics в топах по количеству товаров, но на дне по sales_value\n",
    "sns.scatterplot(data = item_feat_research, x='sales_value', y='department')\n",
    "plt.title('Sales and Department');"
   ]
  },
  {
   "cell_type": "code",
   "execution_count": 135,
   "metadata": {},
   "outputs": [
    {
     "data": {
      "image/png": "[encoded data removed]",
      "text/plain": [
       "<Figure size 432x288 with 1 Axes>"
      ]
     },
     "metadata": {
      "needs_background": "light"
     },
     "output_type": "display_data"
    }
   ],
   "source": [
    "# очевидно, что некоторые категории товаров начали продаваться позже остальных - тоносительно новые\n",
    "# некоторые категории имеют разрывы в продажах - или сезонность, или перебои в наличии товаров\n",
    "# есть категории, которые продаются стабильно\n",
    "sns.scatterplot(data = item_feat_research, x='week_no', y='department')\n",
    "plt.title('Week and Department');"
   ]
  },
  {
   "cell_type": "code",
   "execution_count": 137,
   "metadata": {},
   "outputs": [
    {
     "data": {
      "image/png": "[encoded data removed]",
      "text/plain": [
       "<Figure size 432x288 with 1 Axes>"
      ]
     },
     "metadata": {
      "needs_background": "light"
     },
     "output_type": "display_data"
    }
   ],
   "source": [
    "# получилось убого, но очевидно, что СТМ представлена не во всех группах товаров\n",
    "sns.scatterplot(data = item_feat_research, x='brand', y='department')\n",
    "plt.title('Brand and Department');"
   ]
  },
  {
   "cell_type": "markdown",
   "metadata": {
    "id": "3HYWWYQmz8AC"
   },
   "source": [
    "### 3. LightFM"
   ]
  },
  {
   "cell_type": "markdown",
   "metadata": {
    "id": "gFZVbwN-z8AD"
   },
   "source": [
    "У этого алогритма есть множество параметров (item/user_alpha, loss, no_components).  \n",
    "Проведите эксперименты аналогично дз 3 (подберите гипперпараметры каким удобно способои и постройте графики)  \n",
    "На выходе необходимо получить pr@5 на валидации (последние 3 недели) > 2%  \n",
    "\n",
    "У Вас, скорее всего, возникнет проблема со временем обучения. Почему они возникает?    \n",
    "\n",
    "Попробуйте запустить алгоритм вообще без фичей или используйте только признаки с небольшим числом уникальных категорий. (item_features['commodity_desc'].unique() - 300 уникальных категорий - это очень много)"
   ]
  },
  {
   "cell_type": "code",
   "execution_count": 99,
   "metadata": {},
   "outputs": [],
   "source": [
    "#Prepare CSR train matrix\n",
    "\n",
    "user_item_matrix = pd.pivot_table(data_train, \n",
    "                                  index='user_id', columns='item_id', \n",
    "                                  values='quantity', # Можно пробоват ьдругие варианты\n",
    "                                  aggfunc='count', \n",
    "                                  fill_value=0\n",
    "                                 )\n",
    "\n",
    "user_item_matrix = user_item_matrix.astype(float) # необходимый тип матрицы для implicit\n",
    "\n",
    "# переведем в формат sparse matrix\n",
    "sparse_user_item = csr_matrix(user_item_matrix)"
   ]
  },
  {
   "cell_type": "code",
   "execution_count": 100,
   "metadata": {},
   "outputs": [],
   "source": [
    "#Prepare CSR test matrix\n",
    "\n",
    "data_test = data_test[data_test['item_id'].isin(data_train['item_id'].unique())]\n",
    "\n",
    "test_user_item_matrix = pd.pivot_table(data_test, \n",
    "                                  index='user_id', columns='item_id', \n",
    "                                  values='quantity', # Можно пробоват ьдругие варианты\n",
    "                                  aggfunc='count', \n",
    "                                  fill_value=0\n",
    "                                 )\n",
    "\n",
    "test_user_item_matrix = test_user_item_matrix.astype(float) # необходимый тип матрицы для implicit\n",
    "\n",
    "# переведем в формат sparse matrix\n",
    "test_sparse_user_item = csr_matrix(test_user_item_matrix)"
   ]
  },
  {
   "cell_type": "code",
   "execution_count": 101,
   "metadata": {},
   "outputs": [],
   "source": [
    "#готовим словарики\n",
    "userids = user_item_matrix.index.values\n",
    "itemids = user_item_matrix.columns.values\n",
    "\n",
    "matrix_userids = np.arange(len(userids))\n",
    "matrix_itemids = np.arange(len(itemids))\n",
    "\n",
    "id_to_itemid = dict(zip(matrix_itemids, itemids))\n",
    "id_to_userid = dict(zip(matrix_userids, userids))\n",
    "\n",
    "itemid_to_id = dict(zip(itemids, matrix_itemids))\n",
    "userid_to_id = dict(zip(userids, matrix_userids))"
   ]
  },
  {
   "cell_type": "code",
   "execution_count": 102,
   "metadata": {},
   "outputs": [
    {
     "data": {
      "text/html": [
       "<div>\n",
       "<style scoped>\n",
       "    .dataframe tbody tr th:only-of-type {\n",
       "        vertical-align: middle;\n",
       "    }\n",
       "\n",
       "    .dataframe tbody tr th {\n",
       "        vertical-align: top;\n",
       "    }\n",
       "\n",
       "    .dataframe thead th {\n",
       "        text-align: right;\n",
       "    }\n",
       "</style>\n",
       "<table border=\"1\" class=\"dataframe\">\n",
       "  <thead>\n",
       "    <tr style=\"text-align: right;\">\n",
       "      <th></th>\n",
       "      <th>age_desc</th>\n",
       "      <th>marital_status_code</th>\n",
       "      <th>income_desc</th>\n",
       "      <th>homeowner_desc</th>\n",
       "      <th>hh_comp_desc</th>\n",
       "      <th>household_size_desc</th>\n",
       "      <th>kid_category_desc</th>\n",
       "    </tr>\n",
       "    <tr>\n",
       "      <th>user_id</th>\n",
       "      <th></th>\n",
       "      <th></th>\n",
       "      <th></th>\n",
       "      <th></th>\n",
       "      <th></th>\n",
       "      <th></th>\n",
       "      <th></th>\n",
       "    </tr>\n",
       "  </thead>\n",
       "  <tbody>\n",
       "    <tr>\n",
       "      <th>1</th>\n",
       "      <td>65+</td>\n",
       "      <td>A</td>\n",
       "      <td>35-49K</td>\n",
       "      <td>Homeowner</td>\n",
       "      <td>2 Adults No Kids</td>\n",
       "      <td>2</td>\n",
       "      <td>None/Unknown</td>\n",
       "    </tr>\n",
       "    <tr>\n",
       "      <th>2</th>\n",
       "      <td>NaN</td>\n",
       "      <td>NaN</td>\n",
       "      <td>NaN</td>\n",
       "      <td>NaN</td>\n",
       "      <td>NaN</td>\n",
       "      <td>NaN</td>\n",
       "      <td>NaN</td>\n",
       "    </tr>\n",
       "  </tbody>\n",
       "</table>\n",
       "</div>"
      ],
      "text/plain": [
       "        age_desc marital_status_code income_desc homeowner_desc  \\\n",
       "user_id                                                           \n",
       "1            65+                   A      35-49K      Homeowner   \n",
       "2            NaN                 NaN         NaN            NaN   \n",
       "\n",
       "             hh_comp_desc household_size_desc kid_category_desc  \n",
       "user_id                                                          \n",
       "1        2 Adults No Kids                   2      None/Unknown  \n",
       "2                     NaN                 NaN               NaN  "
      ]
     },
     "execution_count": 102,
     "metadata": {},
     "output_type": "execute_result"
    }
   ],
   "source": [
    "#Обработка доп признаков юзеров\n",
    "\n",
    "user_feat = pd.DataFrame(user_item_matrix.index)\n",
    "user_feat = user_feat.merge(user_features, on='user_id', how='left')\n",
    "user_feat.set_index('user_id', inplace=True)\n",
    "user_feat.head(2)"
   ]
  },
  {
   "cell_type": "code",
   "execution_count": 103,
   "metadata": {},
   "outputs": [
    {
     "data": {
      "text/html": [
       "<div>\n",
       "<style scoped>\n",
       "    .dataframe tbody tr th:only-of-type {\n",
       "        vertical-align: middle;\n",
       "    }\n",
       "\n",
       "    .dataframe tbody tr th {\n",
       "        vertical-align: top;\n",
       "    }\n",
       "\n",
       "    .dataframe thead th {\n",
       "        text-align: right;\n",
       "    }\n",
       "</style>\n",
       "<table border=\"1\" class=\"dataframe\">\n",
       "  <thead>\n",
       "    <tr style=\"text-align: right;\">\n",
       "      <th></th>\n",
       "      <th>manufacturer</th>\n",
       "      <th>department</th>\n",
       "      <th>brand</th>\n",
       "      <th>commodity_desc</th>\n",
       "      <th>sub_commodity_desc</th>\n",
       "      <th>curr_size_of_product</th>\n",
       "    </tr>\n",
       "    <tr>\n",
       "      <th>item_id</th>\n",
       "      <th></th>\n",
       "      <th></th>\n",
       "      <th></th>\n",
       "      <th></th>\n",
       "      <th></th>\n",
       "      <th></th>\n",
       "    </tr>\n",
       "  </thead>\n",
       "  <tbody>\n",
       "    <tr>\n",
       "      <th>117847</th>\n",
       "      <td>450.0</td>\n",
       "      <td>NUTRITION</td>\n",
       "      <td>National</td>\n",
       "      <td>REFRIGERATED</td>\n",
       "      <td>SOY/RICE MILK</td>\n",
       "      <td>64 OZ</td>\n",
       "    </tr>\n",
       "    <tr>\n",
       "      <th>279994</th>\n",
       "      <td>2.0</td>\n",
       "      <td>SALAD BAR</td>\n",
       "      <td>National</td>\n",
       "      <td>SALAD BAR</td>\n",
       "      <td>SALAD BAR FRESH FRUIT</td>\n",
       "      <td></td>\n",
       "    </tr>\n",
       "  </tbody>\n",
       "</table>\n",
       "</div>"
      ],
      "text/plain": [
       "         manufacturer department     brand commodity_desc  \\\n",
       "item_id                                                     \n",
       "117847          450.0  NUTRITION  National   REFRIGERATED   \n",
       "279994            2.0  SALAD BAR  National      SALAD BAR   \n",
       "\n",
       "            sub_commodity_desc curr_size_of_product  \n",
       "item_id                                              \n",
       "117847           SOY/RICE MILK                64 OZ  \n",
       "279994   SALAD BAR FRESH FRUIT                       "
      ]
     },
     "execution_count": 103,
     "metadata": {},
     "output_type": "execute_result"
    }
   ],
   "source": [
    "#Обработка доп признаков товаров\n",
    "item_feat = pd.DataFrame(user_item_matrix.columns)\n",
    "item_feat = item_feat.merge(item_features, on='item_id', how='left')\n",
    "item_feat.set_index('item_id', inplace=True)\n",
    "\n",
    "item_feat.head(2)"
   ]
  },
  {
   "cell_type": "code",
   "execution_count": 138,
   "metadata": {},
   "outputs": [],
   "source": [
    "# категорийные признаки - в dummies\n",
    "user_feat_lightfm = pd.get_dummies(user_feat, columns=user_feat.columns.tolist())\n",
    "item_feat_lightfm = pd.get_dummies(item_feat, columns=item_feat.columns.tolist())"
   ]
  },
  {
   "cell_type": "code",
   "execution_count": 139,
   "metadata": {},
   "outputs": [
    {
     "data": {
      "text/html": [
       "<div>\n",
       "<style scoped>\n",
       "    .dataframe tbody tr th:only-of-type {\n",
       "        vertical-align: middle;\n",
       "    }\n",
       "\n",
       "    .dataframe tbody tr th {\n",
       "        vertical-align: top;\n",
       "    }\n",
       "\n",
       "    .dataframe thead th {\n",
       "        text-align: right;\n",
       "    }\n",
       "</style>\n",
       "<table border=\"1\" class=\"dataframe\">\n",
       "  <thead>\n",
       "    <tr style=\"text-align: right;\">\n",
       "      <th></th>\n",
       "      <th>age_desc_19-24</th>\n",
       "      <th>age_desc_25-34</th>\n",
       "      <th>age_desc_35-44</th>\n",
       "      <th>age_desc_45-54</th>\n",
       "      <th>age_desc_55-64</th>\n",
       "      <th>age_desc_65+</th>\n",
       "      <th>marital_status_code_A</th>\n",
       "      <th>marital_status_code_B</th>\n",
       "      <th>marital_status_code_U</th>\n",
       "      <th>income_desc_100-124K</th>\n",
       "      <th>...</th>\n",
       "      <th>hh_comp_desc_Unknown</th>\n",
       "      <th>household_size_desc_1</th>\n",
       "      <th>household_size_desc_2</th>\n",
       "      <th>household_size_desc_3</th>\n",
       "      <th>household_size_desc_4</th>\n",
       "      <th>household_size_desc_5+</th>\n",
       "      <th>kid_category_desc_1</th>\n",
       "      <th>kid_category_desc_2</th>\n",
       "      <th>kid_category_desc_3+</th>\n",
       "      <th>kid_category_desc_None/Unknown</th>\n",
       "    </tr>\n",
       "    <tr>\n",
       "      <th>user_id</th>\n",
       "      <th></th>\n",
       "      <th></th>\n",
       "      <th></th>\n",
       "      <th></th>\n",
       "      <th></th>\n",
       "      <th></th>\n",
       "      <th></th>\n",
       "      <th></th>\n",
       "      <th></th>\n",
       "      <th></th>\n",
       "      <th></th>\n",
       "      <th></th>\n",
       "      <th></th>\n",
       "      <th></th>\n",
       "      <th></th>\n",
       "      <th></th>\n",
       "      <th></th>\n",
       "      <th></th>\n",
       "      <th></th>\n",
       "      <th></th>\n",
       "      <th></th>\n",
       "    </tr>\n",
       "  </thead>\n",
       "  <tbody>\n",
       "    <tr>\n",
       "      <th>1</th>\n",
       "      <td>0</td>\n",
       "      <td>0</td>\n",
       "      <td>0</td>\n",
       "      <td>0</td>\n",
       "      <td>0</td>\n",
       "      <td>1</td>\n",
       "      <td>1</td>\n",
       "      <td>0</td>\n",
       "      <td>0</td>\n",
       "      <td>0</td>\n",
       "      <td>...</td>\n",
       "      <td>0</td>\n",
       "      <td>0</td>\n",
       "      <td>1</td>\n",
       "      <td>0</td>\n",
       "      <td>0</td>\n",
       "      <td>0</td>\n",
       "      <td>0</td>\n",
       "      <td>0</td>\n",
       "      <td>0</td>\n",
       "      <td>1</td>\n",
       "    </tr>\n",
       "    <tr>\n",
       "      <th>2</th>\n",
       "      <td>0</td>\n",
       "      <td>0</td>\n",
       "      <td>0</td>\n",
       "      <td>0</td>\n",
       "      <td>0</td>\n",
       "      <td>0</td>\n",
       "      <td>0</td>\n",
       "      <td>0</td>\n",
       "      <td>0</td>\n",
       "      <td>0</td>\n",
       "      <td>...</td>\n",
       "      <td>0</td>\n",
       "      <td>0</td>\n",
       "      <td>0</td>\n",
       "      <td>0</td>\n",
       "      <td>0</td>\n",
       "      <td>0</td>\n",
       "      <td>0</td>\n",
       "      <td>0</td>\n",
       "      <td>0</td>\n",
       "      <td>0</td>\n",
       "    </tr>\n",
       "  </tbody>\n",
       "</table>\n",
       "<p>2 rows × 41 columns</p>\n",
       "</div>"
      ],
      "text/plain": [
       "         age_desc_19-24  age_desc_25-34  age_desc_35-44  age_desc_45-54  \\\n",
       "user_id                                                                   \n",
       "1                     0               0               0               0   \n",
       "2                     0               0               0               0   \n",
       "\n",
       "         age_desc_55-64  age_desc_65+  marital_status_code_A  \\\n",
       "user_id                                                        \n",
       "1                     0             1                      1   \n",
       "2                     0             0                      0   \n",
       "\n",
       "         marital_status_code_B  marital_status_code_U  income_desc_100-124K  \\\n",
       "user_id                                                                       \n",
       "1                            0                      0                     0   \n",
       "2                            0                      0                     0   \n",
       "\n",
       "         ...  hh_comp_desc_Unknown  household_size_desc_1  \\\n",
       "user_id  ...                                                \n",
       "1        ...                     0                      0   \n",
       "2        ...                     0                      0   \n",
       "\n",
       "         household_size_desc_2  household_size_desc_3  household_size_desc_4  \\\n",
       "user_id                                                                        \n",
       "1                            1                      0                      0   \n",
       "2                            0                      0                      0   \n",
       "\n",
       "         household_size_desc_5+  kid_category_desc_1  kid_category_desc_2  \\\n",
       "user_id                                                                     \n",
       "1                             0                    0                    0   \n",
       "2                             0                    0                    0   \n",
       "\n",
       "         kid_category_desc_3+  kid_category_desc_None/Unknown  \n",
       "user_id                                                        \n",
       "1                           0                               1  \n",
       "2                           0                               0  \n",
       "\n",
       "[2 rows x 41 columns]"
      ]
     },
     "execution_count": 139,
     "metadata": {},
     "output_type": "execute_result"
    }
   ],
   "source": [
    "user_feat_lightfm.head(2)"
   ]
  },
  {
   "cell_type": "code",
   "execution_count": 140,
   "metadata": {
    "scrolled": true
   },
   "outputs": [
    {
     "data": {
      "text/html": [
       "<div>\n",
       "<style scoped>\n",
       "    .dataframe tbody tr th:only-of-type {\n",
       "        vertical-align: middle;\n",
       "    }\n",
       "\n",
       "    .dataframe tbody tr th {\n",
       "        vertical-align: top;\n",
       "    }\n",
       "\n",
       "    .dataframe thead th {\n",
       "        text-align: right;\n",
       "    }\n",
       "</style>\n",
       "<table border=\"1\" class=\"dataframe\">\n",
       "  <thead>\n",
       "    <tr style=\"text-align: right;\">\n",
       "      <th></th>\n",
       "      <th>manufacturer_2.0</th>\n",
       "      <th>manufacturer_5.0</th>\n",
       "      <th>manufacturer_16.0</th>\n",
       "      <th>manufacturer_20.0</th>\n",
       "      <th>manufacturer_26.0</th>\n",
       "      <th>manufacturer_33.0</th>\n",
       "      <th>manufacturer_35.0</th>\n",
       "      <th>manufacturer_36.0</th>\n",
       "      <th>manufacturer_42.0</th>\n",
       "      <th>manufacturer_43.0</th>\n",
       "      <th>...</th>\n",
       "      <th>curr_size_of_product_L    16 OZ</th>\n",
       "      <th>curr_size_of_product_L  7.75 OZ</th>\n",
       "      <th>curr_size_of_product_L 13.25 OZ</th>\n",
       "      <th>curr_size_of_product_LB</th>\n",
       "      <th>curr_size_of_product_N   12 OZ</th>\n",
       "      <th>curr_size_of_product_N   40 OZ</th>\n",
       "      <th>curr_size_of_product_PINT</th>\n",
       "      <th>curr_size_of_product_PK</th>\n",
       "      <th>curr_size_of_product_PT</th>\n",
       "      <th>curr_size_of_product_QT</th>\n",
       "    </tr>\n",
       "    <tr>\n",
       "      <th>item_id</th>\n",
       "      <th></th>\n",
       "      <th></th>\n",
       "      <th></th>\n",
       "      <th></th>\n",
       "      <th></th>\n",
       "      <th></th>\n",
       "      <th></th>\n",
       "      <th></th>\n",
       "      <th></th>\n",
       "      <th></th>\n",
       "      <th></th>\n",
       "      <th></th>\n",
       "      <th></th>\n",
       "      <th></th>\n",
       "      <th></th>\n",
       "      <th></th>\n",
       "      <th></th>\n",
       "      <th></th>\n",
       "      <th></th>\n",
       "      <th></th>\n",
       "      <th></th>\n",
       "    </tr>\n",
       "  </thead>\n",
       "  <tbody>\n",
       "    <tr>\n",
       "      <th>117847</th>\n",
       "      <td>0</td>\n",
       "      <td>0</td>\n",
       "      <td>0</td>\n",
       "      <td>0</td>\n",
       "      <td>0</td>\n",
       "      <td>0</td>\n",
       "      <td>0</td>\n",
       "      <td>0</td>\n",
       "      <td>0</td>\n",
       "      <td>0</td>\n",
       "      <td>...</td>\n",
       "      <td>0</td>\n",
       "      <td>0</td>\n",
       "      <td>0</td>\n",
       "      <td>0</td>\n",
       "      <td>0</td>\n",
       "      <td>0</td>\n",
       "      <td>0</td>\n",
       "      <td>0</td>\n",
       "      <td>0</td>\n",
       "      <td>0</td>\n",
       "    </tr>\n",
       "    <tr>\n",
       "      <th>279994</th>\n",
       "      <td>1</td>\n",
       "      <td>0</td>\n",
       "      <td>0</td>\n",
       "      <td>0</td>\n",
       "      <td>0</td>\n",
       "      <td>0</td>\n",
       "      <td>0</td>\n",
       "      <td>0</td>\n",
       "      <td>0</td>\n",
       "      <td>0</td>\n",
       "      <td>...</td>\n",
       "      <td>0</td>\n",
       "      <td>0</td>\n",
       "      <td>0</td>\n",
       "      <td>0</td>\n",
       "      <td>0</td>\n",
       "      <td>0</td>\n",
       "      <td>0</td>\n",
       "      <td>0</td>\n",
       "      <td>0</td>\n",
       "      <td>0</td>\n",
       "    </tr>\n",
       "  </tbody>\n",
       "</table>\n",
       "<p>2 rows × 2757 columns</p>\n",
       "</div>"
      ],
      "text/plain": [
       "         manufacturer_2.0  manufacturer_5.0  manufacturer_16.0  \\\n",
       "item_id                                                          \n",
       "117847                  0                 0                  0   \n",
       "279994                  1                 0                  0   \n",
       "\n",
       "         manufacturer_20.0  manufacturer_26.0  manufacturer_33.0  \\\n",
       "item_id                                                            \n",
       "117847                   0                  0                  0   \n",
       "279994                   0                  0                  0   \n",
       "\n",
       "         manufacturer_35.0  manufacturer_36.0  manufacturer_42.0  \\\n",
       "item_id                                                            \n",
       "117847                   0                  0                  0   \n",
       "279994                   0                  0                  0   \n",
       "\n",
       "         manufacturer_43.0  ...  curr_size_of_product_L    16 OZ  \\\n",
       "item_id                     ...                                    \n",
       "117847                   0  ...                                0   \n",
       "279994                   0  ...                                0   \n",
       "\n",
       "         curr_size_of_product_L  7.75 OZ  curr_size_of_product_L 13.25 OZ  \\\n",
       "item_id                                                                     \n",
       "117847                                 0                                0   \n",
       "279994                                 0                                0   \n",
       "\n",
       "         curr_size_of_product_LB  curr_size_of_product_N   12 OZ  \\\n",
       "item_id                                                            \n",
       "117847                         0                               0   \n",
       "279994                         0                               0   \n",
       "\n",
       "         curr_size_of_product_N   40 OZ  curr_size_of_product_PINT  \\\n",
       "item_id                                                              \n",
       "117847                                0                          0   \n",
       "279994                                0                          0   \n",
       "\n",
       "         curr_size_of_product_PK  curr_size_of_product_PT  \\\n",
       "item_id                                                     \n",
       "117847                         0                        0   \n",
       "279994                         0                        0   \n",
       "\n",
       "         curr_size_of_product_QT  \n",
       "item_id                           \n",
       "117847                         0  \n",
       "279994                         0  \n",
       "\n",
       "[2 rows x 2757 columns]"
      ]
     },
     "execution_count": 140,
     "metadata": {},
     "output_type": "execute_result"
    }
   ],
   "source": [
    "item_feat_lightfm.head(2)"
   ]
  },
  {
   "cell_type": "code",
   "execution_count": null,
   "metadata": {},
   "outputs": [],
   "source": [
    "# model = LightFM(no_components=10,\n",
    "#                 loss='bpr', # 'warp'\n",
    "#                 learning_rate=0.05, \n",
    "#                 item_alpha=0.1, # смещение по товару\n",
    "#                 user_alpha=0.1, \n",
    "#                 random_state=42)\n",
    "\n",
    "# model.fit((sparse_user_item > 0) * 1,  # user-item matrix из 0 и 1\n",
    "#           sample_weight=coo_matrix(user_item_matrix),\n",
    "#           user_features=csr_matrix(user_feat_lightfm.values).tocsr(),\n",
    "#           item_features=csr_matrix(item_feat_lightfm.values).tocsr(),\n",
    "#           epochs=15) "
   ]
  },
  {
   "cell_type": "markdown",
   "metadata": {},
   "source": [
    "Я долго крутила, как организовать подбор гиперпараметров, но ничего рабочего не родила и подсмотрела в разбор домашки(((( снова пыталась прикрытить hyperopt, но никак не могу сним до конца разобраться, пришлось исследовать optuna на примере с разбора."
   ]
  },
  {
   "cell_type": "code",
   "execution_count": 143,
   "metadata": {},
   "outputs": [
    {
     "name": "stdout",
     "output_type": "stream",
     "text": [
      "Collecting optuna\n",
      "  Downloading optuna-2.10.0-py3-none-any.whl (308 kB)\n",
      "Requirement already satisfied: sqlalchemy>=1.1.0 in c:\\users\\sklod\\anaconda3\\lib\\site-packages (from optuna) (1.3.18)\n",
      "Requirement already satisfied: tqdm in c:\\users\\sklod\\anaconda3\\lib\\site-packages (from optuna) (4.47.0)\n",
      "Requirement already satisfied: scipy!=1.4.0 in c:\\users\\sklod\\anaconda3\\lib\\site-packages (from optuna) (1.4.1)\n",
      "Requirement already satisfied: PyYAML in c:\\users\\sklod\\anaconda3\\lib\\site-packages (from optuna) (5.3.1)\n",
      "Collecting cmaes>=0.8.2\n",
      "  Downloading cmaes-0.8.2-py3-none-any.whl (15 kB)\n",
      "Requirement already satisfied: numpy in c:\\users\\sklod\\anaconda3\\lib\\site-packages (from optuna) (1.18.5)\n",
      "Collecting cliff\n",
      "  Downloading cliff-3.10.1-py3-none-any.whl (81 kB)\n",
      "Collecting colorlog\n",
      "  Downloading colorlog-6.6.0-py2.py3-none-any.whl (11 kB)\n",
      "Collecting alembic\n",
      "  Downloading alembic-1.7.6-py3-none-any.whl (210 kB)\n",
      "Requirement already satisfied: packaging>=20.0 in c:\\users\\sklod\\anaconda3\\lib\\site-packages (from optuna) (20.4)\n",
      "Collecting pbr!=2.1.0,>=2.0.0\n",
      "  Downloading pbr-5.8.1-py2.py3-none-any.whl (113 kB)\n",
      "Collecting stevedore>=2.0.1\n",
      "  Downloading stevedore-3.5.0-py3-none-any.whl (49 kB)\n",
      "Collecting cmd2>=1.0.0\n",
      "  Downloading cmd2-2.4.0-py3-none-any.whl (150 kB)\n",
      "Collecting PrettyTable>=0.7.2\n",
      "  Downloading prettytable-3.1.1-py3-none-any.whl (26 kB)\n",
      "Requirement already satisfied: pyparsing>=2.1.0 in c:\\users\\sklod\\anaconda3\\lib\\site-packages (from cliff->optuna) (2.4.7)\n",
      "Collecting autopage>=0.4.0\n",
      "  Downloading autopage-0.5.0-py3-none-any.whl (29 kB)\n",
      "Requirement already satisfied: colorama; sys_platform == \"win32\" in c:\\users\\sklod\\anaconda3\\lib\\site-packages (from colorlog->optuna) (0.4.3)\n",
      "Collecting importlib-resources; python_version < \"3.9\"\n",
      "  Downloading importlib_resources-5.4.0-py3-none-any.whl (28 kB)\n",
      "Requirement already satisfied: importlib-metadata; python_version < \"3.9\" in c:\\users\\sklod\\anaconda3\\lib\\site-packages (from alembic->optuna) (1.7.0)\n",
      "Collecting Mako\n",
      "  Downloading Mako-1.1.6-py2.py3-none-any.whl (75 kB)\n",
      "Requirement already satisfied: six in c:\\users\\sklod\\anaconda3\\lib\\site-packages (from packaging>=20.0->optuna) (1.15.0)\n",
      "Collecting pyreadline3; sys_platform == \"win32\"\n",
      "  Downloading pyreadline3-3.4.1-py3-none-any.whl (95 kB)\n",
      "Requirement already satisfied: wcwidth>=0.1.7 in c:\\users\\sklod\\anaconda3\\lib\\site-packages (from cmd2>=1.0.0->cliff->optuna) (0.2.5)\n",
      "Requirement already satisfied: attrs>=16.3.0 in c:\\users\\sklod\\anaconda3\\lib\\site-packages (from cmd2>=1.0.0->cliff->optuna) (19.3.0)\n",
      "Collecting pyperclip>=1.6\n",
      "  Downloading pyperclip-1.8.2.tar.gz (20 kB)\n",
      "Requirement already satisfied: zipp>=3.1.0; python_version < \"3.10\" in c:\\users\\sklod\\anaconda3\\lib\\site-packages (from importlib-resources; python_version < \"3.9\"->alembic->optuna) (3.1.0)\n",
      "Requirement already satisfied: MarkupSafe>=0.9.2 in c:\\users\\sklod\\anaconda3\\lib\\site-packages (from Mako->alembic->optuna) (1.1.1)\n",
      "Building wheels for collected packages: pyperclip\n",
      "  Building wheel for pyperclip (setup.py): started\n",
      "  Building wheel for pyperclip (setup.py): finished with status 'done'\n",
      "  Created wheel for pyperclip: filename=pyperclip-1.8.2-py3-none-any.whl size=11113 sha256=7125e81630ad884df46431177714b9fecd5e5c1ce54802ebcbe3e6bd70fa8845\n",
      "  Stored in directory: c:\\users\\sklod\\appdata\\local\\pip\\cache\\wheels\\7f\\1a\\65\\84ff8c386bec21fca6d220ea1f5498a0367883a78dd5ba6122\n",
      "Successfully built pyperclip\n",
      "Installing collected packages: cmaes, pbr, stevedore, pyreadline3, pyperclip, cmd2, PrettyTable, autopage, cliff, colorlog, importlib-resources, Mako, alembic, optuna\n",
      "Successfully installed Mako-1.1.6 PrettyTable-3.1.1 alembic-1.7.6 autopage-0.5.0 cliff-3.10.1 cmaes-0.8.2 cmd2-2.4.0 colorlog-6.6.0 importlib-resources-5.4.0 optuna-2.10.0 pbr-5.8.1 pyperclip-1.8.2 pyreadline3-3.4.1 stevedore-3.5.0\n"
     ]
    }
   ],
   "source": [
    "! pip install optuna"
   ]
  },
  {
   "cell_type": "code",
   "execution_count": 145,
   "metadata": {},
   "outputs": [],
   "source": [
    "import optuna"
   ]
  },
  {
   "cell_type": "code",
   "execution_count": 141,
   "metadata": {},
   "outputs": [],
   "source": [
    "scores = []"
   ]
  },
  {
   "cell_type": "code",
   "execution_count": 146,
   "metadata": {},
   "outputs": [
    {
     "name": "stderr",
     "output_type": "stream",
     "text": [
      "\u001b[32m[I 2022-03-01 20:48:03,286]\u001b[0m A new study created in memory with name: no-name-ae86824d-7960-483b-a88f-de7281e10500\u001b[0m\n",
      "\u001b[32m[I 2022-03-01 20:59:04,680]\u001b[0m Trial 0 finished with value: 0.0024328434374183416 and parameters: {'components': 55, 'lr': 0.1223785519287121}. Best is trial 0 with value: 0.0024328434374183416.\u001b[0m\n",
      "\u001b[32m[I 2022-03-01 21:08:26,713]\u001b[0m Trial 1 finished with value: 0.0038520023226737976 and parameters: {'components': 44, 'lr': 0.08488870967121442}. Best is trial 1 with value: 0.0038520023226737976.\u001b[0m\n",
      "\u001b[32m[I 2022-03-01 21:13:14,336]\u001b[0m Trial 2 finished with value: 0.0025342118460685015 and parameters: {'components': 17, 'lr': 0.2066130797042474}. Best is trial 1 with value: 0.0038520023226737976.\u001b[0m\n",
      "\u001b[32m[I 2022-03-01 21:25:56,321]\u001b[0m Trial 3 finished with value: 0.0030410541221499443 and parameters: {'components': 52, 'lr': 0.10278608292404011}. Best is trial 1 with value: 0.0038520023226737976.\u001b[0m\n",
      "\u001b[32m[I 2022-03-01 21:37:36,317]\u001b[0m Trial 4 finished with value: 0.002736948896199465 and parameters: {'components': 48, 'lr': 0.4028357703465672}. Best is trial 1 with value: 0.0038520023226737976.\u001b[0m\n",
      "\u001b[32m[I 2022-03-01 21:51:40,146]\u001b[0m Trial 5 finished with value: 0.0026355802547186613 and parameters: {'components': 58, 'lr': 0.13321923607090036}. Best is trial 1 with value: 0.0038520023226737976.\u001b[0m\n",
      "\u001b[32m[I 2022-03-01 22:01:41,724]\u001b[0m Trial 6 finished with value: 0.0038520023226737976 and parameters: {'components': 40, 'lr': 0.40846746321768823}. Best is trial 1 with value: 0.0038520023226737976.\u001b[0m\n",
      "\u001b[32m[I 2022-03-01 22:10:22,267]\u001b[0m Trial 7 finished with value: 0.0036492650397121906 and parameters: {'components': 37, 'lr': 0.0959630841236762}. Best is trial 1 with value: 0.0038520023226737976.\u001b[0m\n",
      "\u001b[32m[I 2022-03-01 22:14:34,269]\u001b[0m Trial 8 finished with value: 0.0020273695699870586 and parameters: {'components': 19, 'lr': 0.15924829025227508}. Best is trial 1 with value: 0.0038520023226737976.\u001b[0m\n",
      "\u001b[32m[I 2022-03-01 22:19:45,620]\u001b[0m Trial 9 finished with value: 0.0038520023226737976 and parameters: {'components': 23, 'lr': 0.053633966800148924}. Best is trial 1 with value: 0.0038520023226737976.\u001b[0m\n",
      "\u001b[32m[I 2022-03-01 22:25:50,392]\u001b[0m Trial 10 finished with value: 0.0024328434374183416 and parameters: {'components': 31, 'lr': 0.29400547272067196}. Best is trial 1 with value: 0.0038520023226737976.\u001b[0m\n",
      "\u001b[32m[I 2022-03-01 22:34:21,763]\u001b[0m Trial 11 finished with value: 0.002939685946330428 and parameters: {'components': 42, 'lr': 0.4919422934520361}. Best is trial 1 with value: 0.0038520023226737976.\u001b[0m\n",
      "\u001b[32m[I 2022-03-01 22:42:51,756]\u001b[0m Trial 12 finished with value: 0.0032437911722809076 and parameters: {'components': 43, 'lr': 0.31042590107161994}. Best is trial 1 with value: 0.0038520023226737976.\u001b[0m\n",
      "\u001b[32m[I 2022-03-01 22:49:46,596]\u001b[0m Trial 13 finished with value: 0.0030410541221499443 and parameters: {'components': 35, 'lr': 0.39854568787551736}. Best is trial 1 with value: 0.0038520023226737976.\u001b[0m\n",
      "\u001b[32m[I 2022-03-01 23:02:32,152]\u001b[0m Trial 14 finished with value: 0.012164216488599777 and parameters: {'components': 63, 'lr': 0.004585518060258698}. Best is trial 14 with value: 0.012164216488599777.\u001b[0m\n",
      "\u001b[32m[I 2022-03-01 23:08:23,812]\u001b[0m Trial 15 finished with value: 0.01804358884692192 and parameters: {'components': 28, 'lr': 0.017935199798613955}. Best is trial 15 with value: 0.01804358884692192.\u001b[0m\n",
      "\u001b[32m[I 2022-03-02 09:20:11,639]\u001b[0m Trial 16 finished with value: 0.01804358884692192 and parameters: {'components': 64, 'lr': 0.012391655323215178}. Best is trial 15 with value: 0.01804358884692192.\u001b[0m\n",
      "\u001b[32m[I 2022-03-02 09:26:30,719]\u001b[0m Trial 17 finished with value: 0.01804358884692192 and parameters: {'components': 29, 'lr': 0.007299100256017167}. Best is trial 15 with value: 0.01804358884692192.\u001b[0m\n",
      "\u001b[32m[I 2022-03-02 09:31:30,216]\u001b[0m Trial 18 finished with value: 0.002635580487549305 and parameters: {'components': 25, 'lr': 0.18099602761115216}. Best is trial 15 with value: 0.01804358884692192.\u001b[0m\n",
      "\u001b[32m[I 2022-03-02 09:43:06,559]\u001b[0m Trial 19 finished with value: 0.0022301063872873783 and parameters: {'components': 64, 'lr': 0.23565657436288012}. Best is trial 15 with value: 0.01804358884692192.\u001b[0m\n",
      "\u001b[32m[I 2022-03-02 09:49:31,794]\u001b[0m Trial 20 finished with value: 0.0038520023226737976 and parameters: {'components': 32, 'lr': 0.044134709421606674}. Best is trial 15 with value: 0.01804358884692192.\u001b[0m\n",
      "\u001b[32m[I 2022-03-02 09:55:18,322]\u001b[0m Trial 21 finished with value: 0.01804358884692192 and parameters: {'components': 28, 'lr': 0.007955012410467734}. Best is trial 15 with value: 0.01804358884692192.\u001b[0m\n",
      "\u001b[32m[I 2022-03-02 10:00:37,644]\u001b[0m Trial 22 finished with value: 0.0038520023226737976 and parameters: {'components': 26, 'lr': 0.050956922466403945}. Best is trial 15 with value: 0.01804358884692192.\u001b[0m\n",
      "\u001b[32m[I 2022-03-02 10:05:29,277]\u001b[0m Trial 23 finished with value: 0.01804358884692192 and parameters: {'components': 21, 'lr': 0.00902941143214511}. Best is trial 15 with value: 0.01804358884692192.\u001b[0m\n",
      "\u001b[32m[I 2022-03-02 10:10:06,422]\u001b[0m Trial 24 finished with value: 0.0038520023226737976 and parameters: {'components': 20, 'lr': 0.05598022713981537}. Best is trial 15 with value: 0.01804358884692192.\u001b[0m\n"
     ]
    }
   ],
   "source": [
    "def objective(trial):\n",
    "    global scores\n",
    "\n",
    "    # Init\n",
    "    loss = 'warp'\n",
    "    components = trial.suggest_int('components', 16, 64)\n",
    "    lr = trial.suggest_uniform('lr', 0.0001, 0.5)\n",
    "    item_alpha = 0.1\n",
    "    user_alpha = 0.1\n",
    "    model = LightFM(no_components=components,\n",
    "    #                 loss='bpr',\n",
    "                    loss=loss,\n",
    "                    learning_rate=lr, \n",
    "                    item_alpha=item_alpha,\n",
    "                    user_alpha=user_alpha, \n",
    "                    random_state=42)\n",
    "\n",
    "    # Train\n",
    "    model.fit((sparse_user_item > 0) * 1,  # user-item matrix из 0 и 1\n",
    "              sample_weight=coo_matrix(user_item_matrix),\n",
    "              user_features=csr_matrix(user_feat_lightfm.values),\n",
    "              item_features=csr_matrix(item_feat_lightfm.values),\n",
    "              epochs=15, \n",
    "              num_threads=6,\n",
    "              verbose=False)\n",
    "\n",
    "    # Train evaluation\n",
    "    train_precision = precision_at_k(model, sparse_user_item, \n",
    "                                     user_features=csr_matrix(user_feat_lightfm.values),\n",
    "                                     item_features=csr_matrix(item_feat_lightfm.values),\n",
    "                                     k=5).mean()\n",
    "    # Test evaluation\n",
    "    test_precision = precision_at_k(model, csr_matrix(test_user_item_matrix), \n",
    "                                     user_features=csr_matrix(user_feat_lightfm.values),\n",
    "                                     item_features=csr_matrix(item_feat_lightfm.values),\n",
    "                                     k=5).mean()\n",
    "\n",
    "    # Save scores\n",
    "    scores.append({'components': components,\n",
    "                   'lr': lr,\n",
    "                   'train': train_precision,\n",
    "                   'test': test_precision})\n",
    "\n",
    "    return test_precision\n",
    "\n",
    "\n",
    "study = optuna.create_study(direction='maximize')  # Create a new study.\n",
    "study.optimize(objective, n_trials=25)  # Invoke optimization of the objective function."
   ]
  },
  {
   "cell_type": "markdown",
   "metadata": {
    "id": "hLnjWB6Lz8AD"
   },
   "source": [
    "### *Отбор признаков* * "
   ]
  },
  {
   "cell_type": "markdown",
   "metadata": {
    "id": "p3-DjadOz8AE"
   },
   "source": [
    "Все данные категориальные, при ohe кодировании для товаров признаков становится невероятно много.      \n",
    "Какие стратегии отбора признаков в классическом ML Вы знаете? Применимы ли они тут?  \n",
    "\n",
    "Попробйте какие-нибудь стратегии. Удалось ли улучшить качество?\n",
    "\n",
    " \\* *задание необязательно*\n"
   ]
  },
  {
   "cell_type": "markdown",
   "metadata": {
    "id": "gry2IYHKz8AE"
   },
   "source": [
    "Отбор признаков - удаление из данных избыточных, нерелевантных признаков, а также тех, которые можно отнести к шуму. В голову приходит первым интуитино-итеративный сетод, или простыми словами \"метрод тыка\"))) Конечно, нужно изучить наполненность и заушленность признаков (выбросы, пробелы), изучит корреляцию признаков между собой и с таргетом."
   ]
  },
  {
   "cell_type": "code",
   "execution_count": null,
   "metadata": {
    "id": "m8JdZSBnz8AF"
   },
   "outputs": [],
   "source": []
  },
  {
   "cell_type": "code",
   "execution_count": null,
   "metadata": {
    "id": "8kSXv81cz8AF"
   },
   "outputs": [],
   "source": []
  }
 ],
 "metadata": {
  "colab": {
   "name": "hw_5.ipynb",
   "provenance": []
  },
  "kernelspec": {
   "display_name": "Python 3",
   "language": "python",
   "name": "python3"
  },
  "language_info": {
   "codemirror_mode": {
    "name": "ipython",
    "version": 3
   },
   "file_extension": ".py",
   "mimetype": "text/x-python",
   "name": "python",
   "nbconvert_exporter": "python",
   "pygments_lexer": "ipython3",
   "version": "3.8.3"
  }
 },
 "nbformat": 4,
 "nbformat_minor": 1
}
